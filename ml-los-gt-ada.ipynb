{
 "cells": [
  {
   "cell_type": "code",
   "execution_count": 1,
   "metadata": {},
   "outputs": [],
   "source": [
    "import pprint\n",
    "\n",
    "import numpy as np\n",
    "import pandas as pd\n",
    "import matplotlib.pyplot as plt\n",
    "import seaborn as sns"
   ]
  },
  {
   "cell_type": "markdown",
   "metadata": {},
   "source": [
    "### Importación y unión de datos"
   ]
  },
  {
   "cell_type": "code",
   "execution_count": 2,
   "metadata": {},
   "outputs": [
    {
     "data": {
      "text/html": [
       "<div>\n",
       "<style scoped>\n",
       "    .dataframe tbody tr th:only-of-type {\n",
       "        vertical-align: middle;\n",
       "    }\n",
       "\n",
       "    .dataframe tbody tr th {\n",
       "        vertical-align: top;\n",
       "    }\n",
       "\n",
       "    .dataframe thead th {\n",
       "        text-align: right;\n",
       "    }\n",
       "</style>\n",
       "<table border=\"1\" class=\"dataframe\">\n",
       "  <thead>\n",
       "    <tr style=\"text-align: right;\">\n",
       "      <th></th>\n",
       "      <th>AÑO</th>\n",
       "      <th>MES</th>\n",
       "      <th>DIASESTANCIA</th>\n",
       "      <th>SEXO</th>\n",
       "      <th>PPERTENENCIA</th>\n",
       "      <th>EDAD</th>\n",
       "      <th>PERIODOEDA</th>\n",
       "      <th>DEPTORESIDEN</th>\n",
       "      <th>MUNIRESIDEN</th>\n",
       "      <th>CAUFIN</th>\n",
       "      <th>CONDIEGRES</th>\n",
       "      <th>TRATARECIB</th>\n",
       "    </tr>\n",
       "  </thead>\n",
       "  <tbody>\n",
       "    <tr>\n",
       "      <th>0</th>\n",
       "      <td>2022.0</td>\n",
       "      <td>Julio</td>\n",
       "      <td>1.0</td>\n",
       "      <td>Mujer</td>\n",
       "      <td>Ignorado</td>\n",
       "      <td>1.0</td>\n",
       "      <td>Meses</td>\n",
       "      <td>Huehuetenango</td>\n",
       "      <td>Huehuetenango</td>\n",
       "      <td>A010</td>\n",
       "      <td>Vivo</td>\n",
       "      <td>Médico</td>\n",
       "    </tr>\n",
       "    <tr>\n",
       "      <th>1</th>\n",
       "      <td>2022.0</td>\n",
       "      <td>Mayo</td>\n",
       "      <td>1.0</td>\n",
       "      <td>Mujer</td>\n",
       "      <td>Ignorado</td>\n",
       "      <td>1.0</td>\n",
       "      <td>Años</td>\n",
       "      <td>Guatemala</td>\n",
       "      <td>Mixco</td>\n",
       "      <td>A010</td>\n",
       "      <td>Vivo</td>\n",
       "      <td>Médico</td>\n",
       "    </tr>\n",
       "    <tr>\n",
       "      <th>2</th>\n",
       "      <td>2022.0</td>\n",
       "      <td>Abril</td>\n",
       "      <td>1.0</td>\n",
       "      <td>Mujer</td>\n",
       "      <td>Ignorado</td>\n",
       "      <td>1.0</td>\n",
       "      <td>Años</td>\n",
       "      <td>Suchitepéquez</td>\n",
       "      <td>San Antonio Suchitepéquez</td>\n",
       "      <td>A010</td>\n",
       "      <td>Vivo</td>\n",
       "      <td>Médico</td>\n",
       "    </tr>\n",
       "    <tr>\n",
       "      <th>3</th>\n",
       "      <td>2022.0</td>\n",
       "      <td>Enero</td>\n",
       "      <td>1.0</td>\n",
       "      <td>Hombre</td>\n",
       "      <td>Ignorado</td>\n",
       "      <td>1.0</td>\n",
       "      <td>Meses</td>\n",
       "      <td>Huehuetenango</td>\n",
       "      <td>Malacatancito</td>\n",
       "      <td>A010</td>\n",
       "      <td>Vivo</td>\n",
       "      <td>Médico</td>\n",
       "    </tr>\n",
       "    <tr>\n",
       "      <th>4</th>\n",
       "      <td>2022.0</td>\n",
       "      <td>Agosto</td>\n",
       "      <td>1.0</td>\n",
       "      <td>Mujer</td>\n",
       "      <td>Mestizo, Ladino</td>\n",
       "      <td>3.0</td>\n",
       "      <td>Años</td>\n",
       "      <td>Izabal</td>\n",
       "      <td>Morales</td>\n",
       "      <td>A010</td>\n",
       "      <td>Vivo</td>\n",
       "      <td>Médico</td>\n",
       "    </tr>\n",
       "  </tbody>\n",
       "</table>\n",
       "</div>"
      ],
      "text/plain": [
       "      AÑO     MES DIASESTANCIA    SEXO     PPERTENENCIA EDAD PERIODOEDA  \\\n",
       "0  2022.0   Julio          1.0   Mujer         Ignorado  1.0      Meses   \n",
       "1  2022.0    Mayo          1.0   Mujer         Ignorado  1.0       Años   \n",
       "2  2022.0   Abril          1.0   Mujer         Ignorado  1.0       Años   \n",
       "3  2022.0   Enero          1.0  Hombre         Ignorado  1.0      Meses   \n",
       "4  2022.0  Agosto          1.0   Mujer  Mestizo, Ladino  3.0       Años   \n",
       "\n",
       "    DEPTORESIDEN                MUNIRESIDEN CAUFIN CONDIEGRES TRATARECIB  \n",
       "0  Huehuetenango              Huehuetenango   A010       Vivo     Médico  \n",
       "1      Guatemala                      Mixco   A010       Vivo     Médico  \n",
       "2  Suchitepéquez  San Antonio Suchitepéquez   A010       Vivo     Médico  \n",
       "3  Huehuetenango              Malacatancito   A010       Vivo     Médico  \n",
       "4         Izabal                    Morales   A010       Vivo     Médico  "
      ]
     },
     "execution_count": 2,
     "metadata": {},
     "output_type": "execute_result"
    }
   ],
   "source": [
    "test_df = pd.read_spss(f\"data/2022.sav\")\n",
    "test_df.head()"
   ]
  },
  {
   "cell_type": "code",
   "execution_count": 3,
   "metadata": {},
   "outputs": [
    {
     "data": {
      "text/html": [
       "<div>\n",
       "<style scoped>\n",
       "    .dataframe tbody tr th:only-of-type {\n",
       "        vertical-align: middle;\n",
       "    }\n",
       "\n",
       "    .dataframe tbody tr th {\n",
       "        vertical-align: top;\n",
       "    }\n",
       "\n",
       "    .dataframe thead th {\n",
       "        text-align: right;\n",
       "    }\n",
       "</style>\n",
       "<table border=\"1\" class=\"dataframe\">\n",
       "  <thead>\n",
       "    <tr style=\"text-align: right;\">\n",
       "      <th></th>\n",
       "      <th>AÑO</th>\n",
       "      <th>MES</th>\n",
       "      <th>DIASESTANCIA</th>\n",
       "      <th>SEXO</th>\n",
       "      <th>PPERTENENCIA</th>\n",
       "      <th>EDAD</th>\n",
       "      <th>PERIODOEDA</th>\n",
       "      <th>DEPTORESIDEN</th>\n",
       "      <th>MUNIRESIDEN</th>\n",
       "      <th>CAUFIN</th>\n",
       "      <th>CONDIEGRES</th>\n",
       "      <th>TRATARECIB</th>\n",
       "    </tr>\n",
       "  </thead>\n",
       "  <tbody>\n",
       "    <tr>\n",
       "      <th>0</th>\n",
       "      <td>2012.0</td>\n",
       "      <td>Enero</td>\n",
       "      <td>1.0</td>\n",
       "      <td>Hombre</td>\n",
       "      <td>Ignorado</td>\n",
       "      <td>0.0</td>\n",
       "      <td>Días</td>\n",
       "      <td>Guatemala</td>\n",
       "      <td>San Juan Sacatepéquez</td>\n",
       "      <td>P95X</td>\n",
       "      <td>Vivo</td>\n",
       "      <td>Médico</td>\n",
       "    </tr>\n",
       "    <tr>\n",
       "      <th>1</th>\n",
       "      <td>2012.0</td>\n",
       "      <td>Febrero</td>\n",
       "      <td>1.0</td>\n",
       "      <td>Mujer</td>\n",
       "      <td>Ignorado</td>\n",
       "      <td>0.0</td>\n",
       "      <td>Días</td>\n",
       "      <td>Zacapa</td>\n",
       "      <td>Zacapa</td>\n",
       "      <td>P95X</td>\n",
       "      <td>Vivo</td>\n",
       "      <td>Médico</td>\n",
       "    </tr>\n",
       "    <tr>\n",
       "      <th>2</th>\n",
       "      <td>2012.0</td>\n",
       "      <td>Enero</td>\n",
       "      <td>2.0</td>\n",
       "      <td>Mujer</td>\n",
       "      <td>No indígena</td>\n",
       "      <td>0.0</td>\n",
       "      <td>Días</td>\n",
       "      <td>Quetzaltenango</td>\n",
       "      <td>Quetzaltenango</td>\n",
       "      <td>P95X</td>\n",
       "      <td>Vivo</td>\n",
       "      <td>Médico</td>\n",
       "    </tr>\n",
       "    <tr>\n",
       "      <th>3</th>\n",
       "      <td>2012.0</td>\n",
       "      <td>Abril</td>\n",
       "      <td>2.0</td>\n",
       "      <td>Mujer</td>\n",
       "      <td>No indígena</td>\n",
       "      <td>0.0</td>\n",
       "      <td>Días</td>\n",
       "      <td>Quetzaltenango</td>\n",
       "      <td>Quetzaltenango</td>\n",
       "      <td>P95X</td>\n",
       "      <td>Vivo</td>\n",
       "      <td>Médico</td>\n",
       "    </tr>\n",
       "    <tr>\n",
       "      <th>4</th>\n",
       "      <td>2012.0</td>\n",
       "      <td>Junio</td>\n",
       "      <td>2.0</td>\n",
       "      <td>Mujer</td>\n",
       "      <td>No indígena</td>\n",
       "      <td>0.0</td>\n",
       "      <td>Días</td>\n",
       "      <td>Quetzaltenango</td>\n",
       "      <td>Quetzaltenango</td>\n",
       "      <td>P95X</td>\n",
       "      <td>Vivo</td>\n",
       "      <td>Médico</td>\n",
       "    </tr>\n",
       "  </tbody>\n",
       "</table>\n",
       "</div>"
      ],
      "text/plain": [
       "      AÑO      MES DIASESTANCIA    SEXO PPERTENENCIA EDAD PERIODOEDA  \\\n",
       "0  2012.0    Enero          1.0  Hombre     Ignorado  0.0       Días   \n",
       "1  2012.0  Febrero          1.0   Mujer     Ignorado  0.0       Días   \n",
       "2  2012.0    Enero          2.0   Mujer  No indígena  0.0       Días   \n",
       "3  2012.0    Abril          2.0   Mujer  No indígena  0.0       Días   \n",
       "4  2012.0    Junio          2.0   Mujer  No indígena  0.0       Días   \n",
       "\n",
       "     DEPTORESIDEN            MUNIRESIDEN CAUFIN CONDIEGRES TRATARECIB  \n",
       "0       Guatemala  San Juan Sacatepéquez   P95X       Vivo     Médico  \n",
       "1          Zacapa                 Zacapa   P95X       Vivo     Médico  \n",
       "2  Quetzaltenango         Quetzaltenango   P95X       Vivo     Médico  \n",
       "3  Quetzaltenango         Quetzaltenango   P95X       Vivo     Médico  \n",
       "4  Quetzaltenango         Quetzaltenango   P95X       Vivo     Médico  "
      ]
     },
     "execution_count": 3,
     "metadata": {},
     "output_type": "execute_result"
    }
   ],
   "source": [
    "dataframes = []\n",
    "# Read each .sav file\n",
    "# And concatenate all DataFrames into one\n",
    "for year in range(2012, 2022):\n",
    "    df = pd.read_spss(f\"data/{year}.sav\")\n",
    "    if \"GRUPETNICO\" in df.columns:\n",
    "        df.rename(columns={\"GRUPETNICO\": \"PPERTENENCIA\"}, inplace=True)\n",
    "    dataframes.append(df)\n",
    "\n",
    "merged_df = pd.concat(dataframes, ignore_index=True)\n",
    "merged_df.head()"
   ]
  },
  {
   "cell_type": "markdown",
   "metadata": {},
   "source": [
    "# Análisis exploratorio\n",
    "Queremos dirigir nuestro análisis exploratorio a contestar una serie de preguntas que nos pueden abrir paso a los diferentes acercamientos que podemos tomar para construir nuestro modelo para poder predecir la cantidad de días que una persona va a estar dentro de un hospital según la enfermedad que se le presenta. \n",
    "\n",
    "Para comenzar debemos de evaluar la calidad de los datos presentados por el Instituto Nacional de Estadística Guatemala (INE), estos datos podrían no estar en el mejor estado, presentando alta cantidad de valores nulos, datos poco íntegros o la variación que estos presentan según determinados grupos."
   ]
  },
  {
   "cell_type": "markdown",
   "metadata": {},
   "source": [
    "## Pre-Limpieza"
   ]
  },
  {
   "cell_type": "markdown",
   "metadata": {},
   "source": [
    "### Corregir nombres y tipos de columnas"
   ]
  },
  {
   "cell_type": "code",
   "execution_count": 4,
   "metadata": {},
   "outputs": [
    {
     "name": "stdout",
     "output_type": "stream",
     "text": [
      "Index(['AÑO', 'MES', 'DIASESTANCIA', 'SEXO', 'PPERTENENCIA', 'EDAD',\n",
      "       'PERIODOEDA', 'DEPTORESIDEN', 'MUNIRESIDEN', 'CAUFIN', 'CONDIEGRES',\n",
      "       'TRATARECIB'],\n",
      "      dtype='object')\n"
     ]
    }
   ],
   "source": [
    "pprint.pprint(merged_df.columns)"
   ]
  },
  {
   "cell_type": "code",
   "execution_count": 5,
   "metadata": {},
   "outputs": [
    {
     "name": "stdout",
     "output_type": "stream",
     "text": [
      "Index(['periodo', 'mes', 'dias_estancia', 'sexo', 'grupo_etnico', 'edad',\n",
      "       'tipo_edad', 'departamento', 'municipio', 'causa_atencion',\n",
      "       'condicion_egreso', 'tratamiento_recibido'],\n",
      "      dtype='object')\n"
     ]
    }
   ],
   "source": [
    "\n",
    "merged_df.columns = map(str.lower, merged_df.columns)\n",
    "merged_df.rename(columns={\n",
    "    \"año\":          \"periodo\",\n",
    "    \"diasestancia\": \"dias_estancia\", \n",
    "    \"ppertenencia\": \"grupo_etnico\",\n",
    "    \"periodoeda\":   \"tipo_edad\",\n",
    "    \"deptoresiden\": \"departamento\",\n",
    "    \"muniresiden\":  \"municipio\",\n",
    "    \"caufin\":       \"causa_atencion\",\n",
    "    \"condiegres\":   \"condicion_egreso\",\n",
    "    \"tratarecib\":   \"tratamiento_recibido\"\n",
    "}, inplace=True)\n",
    "pprint.pprint(merged_df.columns)"
   ]
  },
  {
   "cell_type": "code",
   "execution_count": 6,
   "metadata": {},
   "outputs": [
    {
     "name": "stdout",
     "output_type": "stream",
     "text": [
      "periodo                  float64\n",
      "mes                     category\n",
      "dias_estancia             object\n",
      "sexo                    category\n",
      "grupo_etnico              object\n",
      "edad                      object\n",
      "tipo_edad               category\n",
      "departamento            category\n",
      "municipio                 object\n",
      "causa_atencion            object\n",
      "condicion_egreso          object\n",
      "tratamiento_recibido      object\n",
      "dtype: object\n"
     ]
    }
   ],
   "source": [
    "print(merged_df.dtypes)"
   ]
  },
  {
   "cell_type": "code",
   "execution_count": 7,
   "metadata": {},
   "outputs": [
    {
     "name": "stdout",
     "output_type": "stream",
     "text": [
      "\n",
      "=========================\n",
      "periodo\n",
      "2019.0    286085\n",
      "2020.0    261295\n",
      "2016.0    250211\n",
      "2018.0    238376\n",
      "2015.0    234922\n",
      "2021.0    228471\n",
      "2017.0    223281\n",
      "2014.0    207839\n",
      "2013.0    189555\n",
      "2012.0    185415\n",
      "Name: count, dtype: int64\n",
      "\n",
      "=========================\n",
      "mes\n",
      "Mayo          202504\n",
      "Julio         198909\n",
      "Marzo         198792\n",
      "Agosto        198137\n",
      "Octubre       194758\n",
      "Septiembre    194122\n",
      "Noviembre     189288\n",
      "Junio         188916\n",
      "Enero         188753\n",
      "Abril         186462\n",
      "Name: count, dtype: int64\n",
      "\n",
      "=========================\n",
      "dias_estancia\n",
      "1.0         1266766\n",
      "2.0          588640\n",
      "3.0          202702\n",
      "Ignorado      67542\n",
      "4.0           61978\n",
      "5.0           32733\n",
      "6.0           19504\n",
      "7.0           13047\n",
      "8.0            8769\n",
      "9.0            7219\n",
      "Name: count, dtype: int64\n",
      "\n",
      "=========================\n",
      "sexo\n",
      "Mujer       1398818\n",
      "Hombre       900816\n",
      "Ignorado       5816\n",
      "Name: count, dtype: int64\n",
      "\n",
      "=========================\n",
      "grupo_etnico\n",
      "Ignorado           847313\n",
      "No indígena        592858\n",
      "Mestizo, Ladino    580039\n",
      "Indígena           171120\n",
      "Maya               113385\n",
      "Garífuna              543\n",
      "Otro                  118\n",
      "Xinca                  74\n",
      "Name: count, dtype: int64\n",
      "\n",
      "=========================\n",
      "edad\n",
      "2.0     136214\n",
      "1.0     121882\n",
      "3.0      46636\n",
      "30.0     43192\n",
      "25.0     42922\n",
      "28.0     41589\n",
      "27.0     39821\n",
      "26.0     39777\n",
      "32.0     39577\n",
      "22.0     39017\n",
      "Name: count, dtype: int64\n",
      "\n",
      "=========================\n",
      "tipo_edad\n",
      "Años        2033702\n",
      "Días         218567\n",
      "Meses         33128\n",
      "Ignorado      20053\n",
      "Name: count, dtype: int64\n",
      "\n",
      "=========================\n",
      "departamento\n",
      "Guatemala         1233424\n",
      "Quetzaltenango     102745\n",
      "Huehuetenango      100148\n",
      "Escuintla           81157\n",
      "Alta Verapaz        78064\n",
      "San Marcos          69629\n",
      "Retalhuleu          54887\n",
      "Jutiapa             53593\n",
      "Suchitepéquez       53443\n",
      "Chimaltenango       46982\n",
      "Name: count, dtype: int64\n",
      "\n",
      "=========================\n",
      "municipio\n",
      "Guatemala         853119\n",
      "Mixco             146541\n",
      "Villa Nueva       102374\n",
      "Huehuetenango      54706\n",
      "Quetzaltenango     51992\n",
      "Cobán              45978\n",
      "Escuintla          37531\n",
      "Petapa             35007\n",
      "Retalhuleu         27133\n",
      "Puerto Barrios     26594\n",
      "Name: count, dtype: int64\n",
      "\n",
      "=========================\n",
      "causa_atencion\n",
      "Z380    212765\n",
      "O829    188247\n",
      "N189    136627\n",
      "O809     45475\n",
      "A099     44565\n",
      "R529     34286\n",
      "N390     33255\n",
      "R104     31515\n",
      "K811     29839\n",
      "A09X     29315\n",
      "Name: count, dtype: int64\n",
      "\n",
      "=========================\n",
      "condicion_egreso\n",
      "Vivo        2293933\n",
      "Muerto         9924\n",
      "Ignorado       1593\n",
      "Name: count, dtype: int64\n",
      "\n",
      "=========================\n",
      "tratamiento_recibido\n",
      "Médico        1497675\n",
      "Cirugía        518226\n",
      "Obstétrico     288428\n",
      "Ignorado         1121\n",
      "Name: count, dtype: int64\n"
     ]
    }
   ],
   "source": [
    "# See what are the 10 most frequent values for each of the dataframe columns\n",
    "for column in merged_df.columns:\n",
    "    frequency_values = merged_df[column].value_counts().head(10)\n",
    "    print(f\"\\n=========================\")\n",
    "    print(frequency_values)\n"
   ]
  },
  {
   "cell_type": "code",
   "execution_count": 8,
   "metadata": {},
   "outputs": [],
   "source": [
    "# True null values\n",
    "\n",
    "# Numeric\n",
    "# Any value that cannot be converted to numeric will be treated as null \n",
    "# (possibly if the \"Ignorado\" value is ever found).\n",
    "merged_df[\"dias_estancia\"] = pd.to_numeric(merged_df[\"edad\"], errors=\"coerce\")\n",
    "merged_df[\"edad\"] = pd.to_numeric(merged_df[\"edad\"], errors=\"coerce\")  \n",
    "merged_df.loc[merged_df[\"edad\"] > 9999, \"edad\"] = np.nan\n",
    "\n",
    "# Category\n",
    "merged_df[\"sexo\"].replace(\"Ignorado\", np.nan, inplace=True)\n",
    "merged_df[\"grupo_etnico\"].replace(\"Ignorado\", np.nan, inplace=True)\n",
    "merged_df[\"tipo_edad\"].replace(\"Ignorado\", np.nan, inplace=True)\n",
    "merged_df[\"departamento\"].replace(\"Ignorado\", np.nan, inplace=True)\n",
    "merged_df[\"municipio\"].replace(\"Ignorado\", np.nan, inplace=True)\n",
    "merged_df[\"condicion_egreso\"].replace(\"Ignorado\", np.nan, inplace=True)\n",
    "merged_df[\"tratamiento_recibido\"].replace(\"Ignorado\", np.nan, inplace=True)"
   ]
  },
  {
   "cell_type": "code",
   "execution_count": 9,
   "metadata": {},
   "outputs": [
    {
     "data": {
      "image/png": "[encoded data removed]",
      "text/plain": [
       "<Figure size 1200x600 with 1 Axes>"
      ]
     },
     "metadata": {},
     "output_type": "display_data"
    }
   ],
   "source": [
    "# Calculate the percentage of null values in each column\n",
    "null_percentage = (merged_df.isnull().sum() / len(merged_df)) * 100\n",
    "\n",
    "# Create a horizontal bar chart\n",
    "plt.figure(figsize=(12, 6))\n",
    "ax = sns.barplot(x=null_percentage, y=null_percentage.index, color=\"skyblue\")\n",
    "\n",
    "# Add percentage in each bar\n",
    "for p in ax.patches:\n",
    "    percentage = '{:.2f}%'.format(p.get_width())\n",
    "    x = p.get_x() + p.get_width() + 1.30\n",
    "    y = p.get_y() + p.get_height() / 2\n",
    "    ax.annotate(percentage, (x, y), ha=\"center\", va=\"center\")\n",
    "\n",
    "plt.xlabel(\"Porcentaje de nulos\")\n",
    "plt.ylabel(\"Columnas\")\n",
    "plt.title(\"Porcentaje de valores nulos en cada columna\")\n",
    "\n",
    "\n",
    "plt.show()"
   ]
  },
  {
   "cell_type": "code",
   "execution_count": 16,
   "metadata": {},
   "outputs": [
    {
     "name": "stdout",
     "output_type": "stream",
     "text": [
      "periodo                    int64\n",
      "mes                     category\n",
      "dias_estancia            float64\n",
      "sexo                    category\n",
      "grupo_etnico            category\n",
      "edad                     float64\n",
      "tipo_edad               category\n",
      "departamento            category\n",
      "municipio               category\n",
      "causa_atencion          category\n",
      "condicion_egreso        category\n",
      "tratamiento_recibido    category\n",
      "dtype: object\n"
     ]
    }
   ],
   "source": [
    "merged_df[\"periodo\"]                = merged_df[\"periodo\"].astype(int)\n",
    "merged_df[\"dias_estancia\"]          = merged_df[\"dias_estancia\"].astype(float)\n",
    "merged_df[\"grupo_etnico\"]           = merged_df[\"grupo_etnico\"].astype(\"category\")\n",
    "merged_df[\"municipio\"]              = merged_df[\"municipio\"].astype(\"category\")\n",
    "merged_df[\"causa_atencion\"]         = merged_df[\"causa_atencion\"].astype(\"category\")\n",
    "merged_df[\"condicion_egreso\"]       = merged_df[\"condicion_egreso\"].astype(\"category\")\n",
    "merged_df[\"tratamiento_recibido\"]   = merged_df[\"tratamiento_recibido\"].astype(\"category\")\n",
    "\n",
    "print(merged_df.dtypes)"
   ]
  },
  {
   "cell_type": "markdown",
   "metadata": {},
   "source": [
    "### Evaluación de datos atípicos\n",
    "\n",
    "\n",
    "Es fundamental evaluar los datos atípicos dentro de un conjunto de datos, especialmente cuando se está construyendo un modelo predictivo. Los datos atípicos pueden tener un impacto significativo en la precisión y robustez de tu modelo, disminuyendo la capacidad para generalizar nuevos datos. \n",
    "\n",
    " Los datos atípicos pueden distorsionar las estadísticas y afectar negativamente el rendimiento del modelo. Por ejemplo, si un número de pacientes tiene una estancia extremadamente larga en comparación con el resto de los datos, el modelo puede verse sesgado hacia la sobreestimación de la estancia hospitalaria para todos los pacientes."
   ]
  },
  {
   "cell_type": "code",
   "execution_count": 19,
   "metadata": {},
   "outputs": [
    {
     "data": {
      "image/png": "[encoded data removed]",
      "text/plain": [
       "<Figure size 800x600 with 1 Axes>"
      ]
     },
     "metadata": {},
     "output_type": "display_data"
    }
   ],
   "source": [
    "# Calculate quartiles\n",
    "Q1 = merged_df['dias_estancia'].quantile(0.25)\n",
    "Q3 = merged_df['dias_estancia'].quantile(0.75)\n",
    "IQR = Q3 - Q1\n",
    "\n",
    "# Create the box and whisker plot with the quartiles\n",
    "plt.figure(figsize=(8, 6))\n",
    "sns.boxplot(x='dias_estancia', data=merged_df)\n",
    "plt.title('Diagrama de Caja y Bigotes para días de estancia')\n",
    "plt.xlabel('Días de Estancia')\n",
    "plt.text(0.95, 0.9, f'Q1: {Q1:.2f}', transform=plt.gca().transAxes, ha='right')\n",
    "plt.text(0.95, 0.8, f'IQR: {IQR:.2f}', transform=plt.gca().transAxes, ha='right')\n",
    "plt.text(0.95, 0.85, f'Q3: {Q3:.2f}', transform=plt.gca().transAxes, ha='right')\n",
    "plt.show()\n",
    "\n"
   ]
  },
  {
   "cell_type": "markdown",
   "metadata": {},
   "source": [
    "### Pre- Ingeniería de variables\n"
   ]
  },
  {
   "cell_type": "code",
   "execution_count": 20,
   "metadata": {},
   "outputs": [
    {
     "name": "stdout",
     "output_type": "stream",
     "text": [
      "tipo_edad\n",
      "Años     2033702\n",
      "Días      218567\n",
      "Meses      33128\n",
      "Name: count, dtype: int64\n"
     ]
    }
   ],
   "source": [
    "frequency_values = merged_df[\"tipo_edad\"].value_counts().head(10)\n",
    "print(frequency_values)"
   ]
  },
  {
   "cell_type": "code",
   "execution_count": null,
   "metadata": {},
   "outputs": [],
   "source": [
    "def calcular_edad_correcta(row):\n",
    "    if pd.isnull(row['edad']):  # Verificar si la edad es nula\n",
    "        return None\n",
    "    elif row['tipo_edad'] == 'Años':\n",
    "        return row['edad']\n",
    "    elif row['tipo_edad'] == 'Días':\n",
    "        return row['edad'] / 365.25  # Consideramos un año como 365.25 días para tener en cuenta años bisiestos\n",
    "    elif row['tipo_edad'] == 'Meses':\n",
    "        return row['edad'] / 12\n",
    "    else:\n",
    "        return None  # Manejar casos donde el tipo de edad no está especificado correctamente o es nulo\n",
    "\n",
    "# Aplicar la función para crear una nueva columna \"edad_correcta\"\n",
    "merged_df['edad_correcta'] = merged_df.apply(calcular_edad_correcta, axis=1)\n"
   ]
  },
  {
   "cell_type": "markdown",
   "metadata": {},
   "source": [
    "# Resultados de análisis exploratorio\n",
    "\n",
    "De principio vemos que existen nueve columnas dentro del dataset. Estas columnas nos hablan sobre datos demográficos del usuario, y datos sobre su condición, tratamiento y cantidad de días dentro del hospital. Los datos están compuestos por 3 columnas numéricas  y 6 columnas con datos categóricos. Al explorar el tipo de dato que contiene cada columna, vemos que los datos no se encuentran limpios o de la mejor manera para trabajar, por lo que comenzamos realizando una pre limpieza de datos.\n",
    "\n",
    "Al comenzar, al realizar una pequeña limpieza en los datos, identificamos que las columnas contienen valores nulos. La columna que más se encuentra afectada por valores nulos es el grupo étnico, teniendo una cantidad de 36.75 % de datos nulos. Las demás columnas contienen valores nulos, que son mínimos, que no son representativos. Nuestra variable a de predecir contiene valores nulos. Se considera que estas filas u observaciones eran eliminadas debido a que, si se trata de hacer algún tipo de imputación, solo podrían generar ruido y, además de ser menos del 1 % de la base total, no se considera representativo."
   ]
  }
 ],
 "metadata": {
  "kernelspec": {
   "display_name": "env",
   "language": "python",
   "name": "python3"
  },
  "language_info": {
   "codemirror_mode": {
    "name": "ipython",
    "version": 3
   },
   "file_extension": ".py",
   "mimetype": "text/x-python",
   "name": "python",
   "nbconvert_exporter": "python",
   "pygments_lexer": "ipython3",
   "version": "3.10.12"
  }
 },
 "nbformat": 4,
 "nbformat_minor": 2
}
