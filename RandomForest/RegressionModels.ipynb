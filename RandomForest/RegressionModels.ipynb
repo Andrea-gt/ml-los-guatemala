{
 "cells": [
  {
   "cell_type": "markdown",
   "metadata": {},
   "source": [
    "# Random Forest Algorithm: Regression Models"
   ]
  },
  {
   "cell_type": "markdown",
   "metadata": {},
   "source": [
    "#### Importación de librerías ⬇️"
   ]
  },
  {
   "cell_type": "code",
   "execution_count": 2,
   "metadata": {},
   "outputs": [],
   "source": [
    "from sklearn.ensemble import RandomForestRegressor\n",
    "from sklearn.metrics import r2_score, mean_squared_error\n",
    "from sklearn.model_selection import train_test_split\n",
    "import pandas as pd\n",
    "import numpy as np\n",
    "from sklearn.model_selection import GridSearchCV"
   ]
  },
  {
   "cell_type": "code",
   "execution_count": 3,
   "metadata": {},
   "outputs": [],
   "source": [
    "# Importar data de un csv\n",
    "data = pd.read_csv('../los_data_gt.csv')"
   ]
  },
  {
   "cell_type": "code",
   "execution_count": 4,
   "metadata": {},
   "outputs": [
    {
     "data": {
      "text/plain": [
       "Index(['dias_estancia', 'sexo', 'grupo_etnico', 'departamento', 'municipio',\n",
       "       'causa_atencion', 'condicion_egreso', 'tratamiento_recibido',\n",
       "       'edad_correcta', 'causa_categoria', 'edad_categoria', 'region'],\n",
       "      dtype='object')"
      ]
     },
     "execution_count": 4,
     "metadata": {},
     "output_type": "execute_result"
    }
   ],
   "source": [
    "data.columns"
   ]
  },
  {
   "cell_type": "code",
   "execution_count": 5,
   "metadata": {},
   "outputs": [
    {
     "data": {
      "text/html": [
       "<div>\n",
       "<style scoped>\n",
       "    .dataframe tbody tr th:only-of-type {\n",
       "        vertical-align: middle;\n",
       "    }\n",
       "\n",
       "    .dataframe tbody tr th {\n",
       "        vertical-align: top;\n",
       "    }\n",
       "\n",
       "    .dataframe thead th {\n",
       "        text-align: right;\n",
       "    }\n",
       "</style>\n",
       "<table border=\"1\" class=\"dataframe\">\n",
       "  <thead>\n",
       "    <tr style=\"text-align: right;\">\n",
       "      <th></th>\n",
       "      <th>dias_estancia</th>\n",
       "      <th>sexo</th>\n",
       "      <th>grupo_etnico</th>\n",
       "      <th>departamento</th>\n",
       "      <th>municipio</th>\n",
       "      <th>causa_atencion</th>\n",
       "      <th>condicion_egreso</th>\n",
       "      <th>tratamiento_recibido</th>\n",
       "      <th>edad_correcta</th>\n",
       "      <th>causa_categoria</th>\n",
       "      <th>edad_categoria</th>\n",
       "      <th>region</th>\n",
       "    </tr>\n",
       "  </thead>\n",
       "  <tbody>\n",
       "    <tr>\n",
       "      <th>0</th>\n",
       "      <td>1.0</td>\n",
       "      <td>Hombre</td>\n",
       "      <td>Ignorado</td>\n",
       "      <td>Guatemala</td>\n",
       "      <td>San Juan Sacatepéquez</td>\n",
       "      <td>P95X</td>\n",
       "      <td>Vivo</td>\n",
       "      <td>Médico</td>\n",
       "      <td>0.0</td>\n",
       "      <td>Certain conditions originating in the perinata...</td>\n",
       "      <td>Primera Infancia</td>\n",
       "      <td>Central</td>\n",
       "    </tr>\n",
       "    <tr>\n",
       "      <th>1</th>\n",
       "      <td>1.0</td>\n",
       "      <td>Mujer</td>\n",
       "      <td>Ignorado</td>\n",
       "      <td>Zacapa</td>\n",
       "      <td>Zacapa</td>\n",
       "      <td>P95X</td>\n",
       "      <td>Vivo</td>\n",
       "      <td>Médico</td>\n",
       "      <td>0.0</td>\n",
       "      <td>Certain conditions originating in the perinata...</td>\n",
       "      <td>Primera Infancia</td>\n",
       "      <td>Nororiente</td>\n",
       "    </tr>\n",
       "    <tr>\n",
       "      <th>2</th>\n",
       "      <td>2.0</td>\n",
       "      <td>Mujer</td>\n",
       "      <td>No indígena</td>\n",
       "      <td>Quetzaltenango</td>\n",
       "      <td>Quetzaltenango</td>\n",
       "      <td>P95X</td>\n",
       "      <td>Vivo</td>\n",
       "      <td>Médico</td>\n",
       "      <td>0.0</td>\n",
       "      <td>Certain conditions originating in the perinata...</td>\n",
       "      <td>Primera Infancia</td>\n",
       "      <td>Occidente</td>\n",
       "    </tr>\n",
       "    <tr>\n",
       "      <th>3</th>\n",
       "      <td>2.0</td>\n",
       "      <td>Mujer</td>\n",
       "      <td>No indígena</td>\n",
       "      <td>Quetzaltenango</td>\n",
       "      <td>Quetzaltenango</td>\n",
       "      <td>P95X</td>\n",
       "      <td>Vivo</td>\n",
       "      <td>Médico</td>\n",
       "      <td>0.0</td>\n",
       "      <td>Certain conditions originating in the perinata...</td>\n",
       "      <td>Primera Infancia</td>\n",
       "      <td>Occidente</td>\n",
       "    </tr>\n",
       "    <tr>\n",
       "      <th>4</th>\n",
       "      <td>2.0</td>\n",
       "      <td>Mujer</td>\n",
       "      <td>No indígena</td>\n",
       "      <td>Quetzaltenango</td>\n",
       "      <td>Quetzaltenango</td>\n",
       "      <td>P95X</td>\n",
       "      <td>Vivo</td>\n",
       "      <td>Médico</td>\n",
       "      <td>0.0</td>\n",
       "      <td>Certain conditions originating in the perinata...</td>\n",
       "      <td>Primera Infancia</td>\n",
       "      <td>Occidente</td>\n",
       "    </tr>\n",
       "  </tbody>\n",
       "</table>\n",
       "</div>"
      ],
      "text/plain": [
       "   dias_estancia    sexo grupo_etnico    departamento              municipio  \\\n",
       "0            1.0  Hombre     Ignorado       Guatemala  San Juan Sacatepéquez   \n",
       "1            1.0   Mujer     Ignorado          Zacapa                 Zacapa   \n",
       "2            2.0   Mujer  No indígena  Quetzaltenango         Quetzaltenango   \n",
       "3            2.0   Mujer  No indígena  Quetzaltenango         Quetzaltenango   \n",
       "4            2.0   Mujer  No indígena  Quetzaltenango         Quetzaltenango   \n",
       "\n",
       "  causa_atencion condicion_egreso tratamiento_recibido  edad_correcta  \\\n",
       "0           P95X             Vivo               Médico            0.0   \n",
       "1           P95X             Vivo               Médico            0.0   \n",
       "2           P95X             Vivo               Médico            0.0   \n",
       "3           P95X             Vivo               Médico            0.0   \n",
       "4           P95X             Vivo               Médico            0.0   \n",
       "\n",
       "                                     causa_categoria    edad_categoria  \\\n",
       "0  Certain conditions originating in the perinata...  Primera Infancia   \n",
       "1  Certain conditions originating in the perinata...  Primera Infancia   \n",
       "2  Certain conditions originating in the perinata...  Primera Infancia   \n",
       "3  Certain conditions originating in the perinata...  Primera Infancia   \n",
       "4  Certain conditions originating in the perinata...  Primera Infancia   \n",
       "\n",
       "       region  \n",
       "0     Central  \n",
       "1  Nororiente  \n",
       "2   Occidente  \n",
       "3   Occidente  \n",
       "4   Occidente  "
      ]
     },
     "execution_count": 5,
     "metadata": {},
     "output_type": "execute_result"
    }
   ],
   "source": [
    "data.head()"
   ]
  },
  {
   "cell_type": "code",
   "execution_count": 6,
   "metadata": {},
   "outputs": [],
   "source": [
    "# Evaluación de variables\n",
    "def change(variable, dictValue, df2):\n",
    "    count = 1\n",
    "\n",
    "    def changeToVariable(x):\n",
    "        nonlocal count\n",
    "        nonlocal dictValue\n",
    "        if x in dictValue:\n",
    "            return dictValue[x]\n",
    "        else:\n",
    "            dictValue[x] = count\n",
    "            count += 1\n",
    "            return dictValue[x]\n",
    "        \n",
    "    if not pd.api.types.is_numeric_dtype(df2[variable]):\n",
    "        df2[variable] = df2[variable].apply(changeToVariable)\n",
    "\n",
    "\n",
    "def chageNotNumericVars(df):\n",
    "    dicVars = {}\n",
    "    for col in df.columns:\n",
    "        change(col, dicVars, df)\n",
    "    return dicVars"
   ]
  },
  {
   "cell_type": "code",
   "execution_count": 7,
   "metadata": {},
   "outputs": [],
   "source": [
    "def regressionRandomForest(X_train, y_train, X_test, y_test, deep=None):\n",
    "\n",
    "    # Crear el modelo de Random Forest\n",
    "    rf_model = RandomForestRegressor(random_state=42)\n",
    "\n",
    "    rf_model.fit(X_train, y_train)\n",
    "\n",
    "    # Predecir en el conjunto de prueba\n",
    "    y_pred = rf_model.predict(X_test)\n",
    "\n",
    "    # Calcular el error cuadrático medio\n",
    "    mse = mean_squared_error(y_test, y_pred)\n",
    "    print(\"Error cuadrático medio:\", mse)\n",
    "\n",
    "    # Calcular la raiz del error cuadratico medio\n",
    "    rmse = root_mean_squared_error(y_test, y_pred)\n",
    "    print(\"raiz del error cuadratico medio\", rmse)\n",
    "\n",
    "    # Calcular el coeficiente de determinación\n",
    "    r2 = r2_score(y_test, y_pred)\n",
    "    print(\"Coeficiente de determinación:\", r2)"
   ]
  },
  {
   "cell_type": "code",
   "execution_count": 8,
   "metadata": {},
   "outputs": [],
   "source": [
    "def findBestMaxDepth(X_train, y_train):\n",
    "    # Crear el modelo de Random Forest\n",
    "    rf_model = RandomForestRegressor(random_state=42)\n",
    "\n",
    "    # Definir los hiperparámetros\n",
    "    param_grid = {\n",
    "        'max_depth': list(range(5, 25, 5))\n",
    "    }\n",
    "\n",
    "    # Crear el objeto de búsqueda en la grilla\n",
    "    grid_search = GridSearchCV(estimator=rf_model, param_grid=param_grid, cv=3, n_jobs=-1, verbose=2)\n",
    "\n",
    "    # Realizar la búsqueda en la grilla\n",
    "    grid_search.fit(X_train, y_train)\n",
    "\n",
    "    # Obtener la mejor profundidad\n",
    "    best_depth = grid_search.best_params_['max_depth']\n",
    "\n",
    "    return best_depth"
   ]
  },
  {
   "cell_type": "markdown",
   "metadata": {},
   "source": [
    "## Primer modelo:\n",
    "pop condicion_egreso, usando el resto de las variables"
   ]
  },
  {
   "cell_type": "code",
   "execution_count": 9,
   "metadata": {},
   "outputs": [],
   "source": [
    "dr = data.copy()\n",
    "\n",
    "y = dr.pop('dias_estancia')\n",
    "dr.pop('condicion_egreso')\n",
    "x = dr\n",
    "description = chageNotNumericVars(dr)"
   ]
  },
  {
   "cell_type": "code",
   "execution_count": 11,
   "metadata": {},
   "outputs": [
    {
     "name": "stdout",
     "output_type": "stream",
     "text": [
      "Tamaño del conjunto de entrenamiento: (1782662, 10)\n",
      "Tamaño del conjunto de prueba: (445666, 10)\n"
     ]
    }
   ],
   "source": [
    "# Separar los conjuntos de entrenamiento y prueba\n",
    "X_train, X_test, y_train, y_test = train_test_split(x, y, test_size=0.2, random_state=42)\n",
    "print(\"Tamaño del conjunto de entrenamiento:\", X_train.shape)\n",
    "print(\"Tamaño del conjunto de prueba:\", X_test.shape)"
   ]
  },
  {
   "cell_type": "code",
   "execution_count": 11,
   "metadata": {},
   "outputs": [
    {
     "name": "stdout",
     "output_type": "stream",
     "text": [
      "Error cuadrático medio: 6.637661921527838\n",
      "raiz del error cuadratico medio 2.576366030192107\n",
      "Coeficiente de determinación: -0.00632898080276334\n"
     ]
    }
   ],
   "source": [
    "regressionRandomForest(X_train, y_train, X_test, y_test)"
   ]
  },
  {
   "cell_type": "code",
   "execution_count": 17,
   "metadata": {},
   "outputs": [
    {
     "name": "stdout",
     "output_type": "stream",
     "text": [
      "Fitting 3 folds for each of 4 candidates, totalling 12 fits\n",
      "[CV] END ........................................max_depth=5; total time= 2.2min\n",
      "[CV] END ........................................max_depth=5; total time= 2.2min\n",
      "[CV] END ........................................max_depth=5; total time= 2.2min\n",
      "[CV] END .......................................max_depth=10; total time= 4.0min\n",
      "[CV] END .......................................max_depth=10; total time= 4.0min\n",
      "[CV] END .......................................max_depth=10; total time= 4.0min\n",
      "[CV] END .......................................max_depth=15; total time= 5.1min\n",
      "[CV] END .......................................max_depth=15; total time= 5.1min\n",
      "[CV] END .......................................max_depth=15; total time= 4.4min\n",
      "[CV] END .......................................max_depth=20; total time= 5.0min\n",
      "[CV] END .......................................max_depth=20; total time= 5.0min\n",
      "[CV] END .......................................max_depth=20; total time= 4.4min\n",
      "La mejor profundidad encontrada es: 15\n"
     ]
    }
   ],
   "source": [
    "best_depth = findBestMaxDepth(X_train, y_train)\n",
    "print(f\"La mejor profundidad encontrada es: {best_depth}\")"
   ]
  },
  {
   "cell_type": "markdown",
   "metadata": {},
   "source": [
    "##### Test Data Set"
   ]
  },
  {
   "cell_type": "code",
   "execution_count": 23,
   "metadata": {},
   "outputs": [
    {
     "name": "stdout",
     "output_type": "stream",
     "text": [
      "Error cuadrático medio: 5.841146730337402\n",
      "raiz del error cuadratico medio 2.4168464432680454\n",
      "Coeficiente de determinación: 0.11442985416364448\n"
     ]
    }
   ],
   "source": [
    "# Crear el modelo de Random Forest con la mejor profundidad\n",
    "rf_model = RandomForestRegressor(max_depth=best_depth, random_state=42)\n",
    "\n",
    "# Entrenar el modelo\n",
    "rf_model.fit(X_train, y_train)\n",
    "\n",
    "# Predecir en el conjunto de prueba\n",
    "y_pred = rf_model.predict(X_test)\n",
    "\n",
    "# Calcular el error cuadrático medio\n",
    "mse = mean_squared_error(y_test, y_pred)\n",
    "print(\"Error cuadrático medio:\", mse)\n",
    "\n",
    "# Calcular la raiz del error cuadratico medio\n",
    "rmse = root_mean_squared_error(y_test, y_pred)\n",
    "print(\"raiz del error cuadratico medio\", rmse)\n",
    "\n",
    "# Calcular el coeficiente de determinación\n",
    "r2 = r2_score(y_test, y_pred)\n",
    "print(\"Coeficiente de determinación:\", r2)"
   ]
  },
  {
   "cell_type": "markdown",
   "metadata": {},
   "source": [
    "#### Train Data Set"
   ]
  },
  {
   "cell_type": "code",
   "execution_count": 12,
   "metadata": {},
   "outputs": [
    {
     "name": "stdout",
     "output_type": "stream",
     "text": [
      "Error cuadrático medio (entrenamiento): 5.180068824415249\n",
      "Raiz del error cuadratico medio (entrenamiento): 2.275976455153974\n",
      "Coeficiente de determinación (entrenamiento): 0.2085176362520409\n"
     ]
    }
   ],
   "source": [
    "# Crear el modelo de Random Forest con la mejor profundidad\n",
    "rf_model = RandomForestRegressor(max_depth=15, random_state=42)\n",
    "\n",
    "# Entrenar el modelo\n",
    "rf_model.fit(X_train, y_train)\n",
    "\n",
    "# Predecir en el conjunto de entrenamiento\n",
    "y_train_pred = rf_model.predict(X_train)\n",
    "\n",
    "# Calcular el error cuadrático medio\n",
    "mse_train = mean_squared_error(y_train, y_train_pred)\n",
    "print(\"Error cuadrático medio (entrenamiento):\", mse_train)\n",
    "\n",
    "# Calcular la raiz del error cuadratico medio\n",
    "rmse_train = np.sqrt(mse_train)\n",
    "print(\"Raiz del error cuadratico medio (entrenamiento):\", rmse_train)\n",
    "\n",
    "# Calcular el coeficiente de determinación\n",
    "r2_train = r2_score(y_train, y_train_pred)\n",
    "print(\"Coeficiente de determinación (entrenamiento):\", r2_train)"
   ]
  },
  {
   "cell_type": "markdown",
   "metadata": {},
   "source": [
    "### Primer modelo: Ajuste de hiperparámetros\n",
    "pop en condicion_egreso, usando el resto de las variables"
   ]
  },
  {
   "cell_type": "code",
   "execution_count": 13,
   "metadata": {},
   "outputs": [],
   "source": [
    "def regressionRandomForest2(X_train, y_train, X_test, y_test, best_params=None):\n",
    "    rf_model = RandomForestRegressor(random_state=42, **(best_params if best_params else {}))\n",
    "    rf_model.fit(X_train, y_train)\n",
    "    y_pred = rf_model.predict(X_test)\n",
    "\n",
    "    mse = mean_squared_error(y_test, y_pred)\n",
    "    rmse = np.sqrt(mse)\n",
    "    r2 = r2_score(y_test, y_pred)\n",
    "\n",
    "    print(\"Error cuadrático medio:\", mse)\n",
    "    print(\"Raíz del error cuadrático medio:\", rmse)\n",
    "    print(\"Coeficiente de determinación:\", r2)"
   ]
  },
  {
   "cell_type": "code",
   "execution_count": 29,
   "metadata": {},
   "outputs": [],
   "source": [
    "def findBestParameters2(X_train, y_train):\n",
    "    rf_model = RandomForestRegressor(random_state=42)\n",
    "\n",
    "    param_grid = {\n",
    "        'max_depth': [20, 10],\n",
    "        'n_estimators': [200, 100],\n",
    "        'min_samples_split': [2, 10],\n",
    "        'min_samples_leaf': [1, 4],\n",
    "        'max_features': ['sqrt']\n",
    "    }\n",
    "\n",
    "    grid_search = GridSearchCV(estimator=rf_model, param_grid=param_grid, cv=3, verbose=2, n_jobs=-1)\n",
    "    grid_search.fit(X_train, y_train)\n",
    "    return grid_search.best_params_"
   ]
  },
  {
   "cell_type": "code",
   "execution_count": 30,
   "metadata": {},
   "outputs": [
    {
     "name": "stdout",
     "output_type": "stream",
     "text": [
      "Fitting 3 folds for each of 16 candidates, totalling 48 fits\n",
      "Los mejores parámetros encontrados son: {'max_depth': 20, 'max_features': 'sqrt', 'min_samples_leaf': 4, 'min_samples_split': 10, 'n_estimators': 200}\n"
     ]
    }
   ],
   "source": [
    "# Uso de GridSearchCV para optimizar los parámetros\n",
    "best_params = findBestParameters2(X_train, y_train)\n",
    "print(f\"Los mejores parámetros encontrados son: {best_params}\")"
   ]
  },
  {
   "cell_type": "markdown",
   "metadata": {},
   "source": [
    "#### Test Data Set"
   ]
  },
  {
   "cell_type": "code",
   "execution_count": 31,
   "metadata": {},
   "outputs": [
    {
     "name": "stdout",
     "output_type": "stream",
     "text": [
      "Error cuadrático medio: 5.775985625663179\n",
      "Raíz del error cuadrático medio: 2.4033280312231993\n",
      "Coeficiente de determinación: 0.12430886108355388\n"
     ]
    }
   ],
   "source": [
    "# Usar los mejores parámetros encontrados para entrenar y evaluar el modelo\n",
    "regressionRandomForest2(X_train, y_train, X_test, y_test, best_params)"
   ]
  },
  {
   "cell_type": "markdown",
   "metadata": {},
   "source": [
    "#### Train Data Set"
   ]
  },
  {
   "cell_type": "code",
   "execution_count": 13,
   "metadata": {},
   "outputs": [
    {
     "name": "stdout",
     "output_type": "stream",
     "text": [
      "Error cuadrático medio (entrenamiento): 4.017334821777287\n",
      "Raiz del error cuadratico medio (entrenamiento): 2.0043290203400455\n",
      "Coeficiente de determinación (entrenamiento): 0.3861761747796456\n"
     ]
    }
   ],
   "source": [
    "# Crear el modelo de Random Forest con la mejor profundidad\n",
    "rf_model = RandomForestRegressor(max_depth=20, random_state=42)\n",
    "\n",
    "# Entrenar el modelo\n",
    "rf_model.fit(X_train, y_train)\n",
    "\n",
    "# Predecir en el conjunto de entrenamiento\n",
    "y_train_pred = rf_model.predict(X_train)\n",
    "\n",
    "# Calcular el error cuadrático medio\n",
    "mse_train = mean_squared_error(y_train, y_train_pred)\n",
    "print(\"Error cuadrático medio (entrenamiento):\", mse_train)\n",
    "\n",
    "# Calcular la raiz del error cuadratico medio\n",
    "rmse_train = np.sqrt(mse_train)\n",
    "print(\"Raiz del error cuadratico medio (entrenamiento):\", rmse_train)\n",
    "\n",
    "# Calcular el coeficiente de determinación\n",
    "r2_train = r2_score(y_train, y_train_pred)\n",
    "print(\"Coeficiente de determinación (entrenamiento):\", r2_train)"
   ]
  },
  {
   "cell_type": "markdown",
   "metadata": {},
   "source": [
    "## Segundo modelo\n",
    "pop condicion_egreso, municipio, region. Filtrando el DataFrame para mantener solo las filas donde el departamento es Guatemala."
   ]
  },
  {
   "cell_type": "code",
   "execution_count": 14,
   "metadata": {},
   "outputs": [],
   "source": [
    "df_cp = data.copy()\n",
    "\n",
    "df_cp.pop('condicion_egreso')\n",
    "df_cp.pop('municipio')\n",
    "df_cp.pop('region')\n",
    "\n",
    "df_cp = df_cp[df_cp['departamento'] == 'Guatemala']\n",
    "df_cp.pop('departamento')\n",
    "\n",
    "freq = df_cp['dias_estancia'].value_counts()\n",
    "df_cp = df_cp.loc[df_cp['dias_estancia'] <= 30]\n",
    "\n",
    "uniques = freq[freq == 1].index\n",
    "df_cp = df_cp.loc[~df_cp['dias_estancia'].isin(uniques)]\n",
    "\n",
    "y = df_cp.pop('dias_estancia')\n",
    "X = df_cp\n",
    "description = chageNotNumericVars(X)"
   ]
  },
  {
   "cell_type": "code",
   "execution_count": 15,
   "metadata": {},
   "outputs": [],
   "source": [
    "X_train, X_test, y_train, y_test = train_test_split(X, y, test_size=0.2, random_state=42)"
   ]
  },
  {
   "cell_type": "code",
   "execution_count": 14,
   "metadata": {},
   "outputs": [
    {
     "name": "stdout",
     "output_type": "stream",
     "text": [
      "Fitting 3 folds for each of 4 candidates, totalling 12 fits\n",
      "[CV] END ........................................max_depth=5; total time=  46.4s\n",
      "[CV] END ........................................max_depth=5; total time=  46.5s\n",
      "[CV] END ........................................max_depth=5; total time=  46.7s\n",
      "[CV] END .......................................max_depth=10; total time= 1.3min\n",
      "[CV] END .......................................max_depth=10; total time= 1.3min\n",
      "[CV] END .......................................max_depth=10; total time= 1.3min\n",
      "[CV] END .......................................max_depth=15; total time= 1.6min\n",
      "[CV] END .......................................max_depth=15; total time= 1.6min\n",
      "[CV] END .......................................max_depth=15; total time= 1.4min\n",
      "[CV] END .......................................max_depth=20; total time= 1.5min\n",
      "[CV] END .......................................max_depth=20; total time= 1.5min\n",
      "[CV] END .......................................max_depth=20; total time= 1.3min\n",
      "La mejor profundidad encontrada es: 15\n"
     ]
    }
   ],
   "source": [
    "best_depth = findBestMaxDepth(X_train, y_train)\n",
    "print(f\"La mejor profundidad encontrada es: {best_depth}\")"
   ]
  },
  {
   "cell_type": "markdown",
   "metadata": {},
   "source": [
    "#### Test Data Set"
   ]
  },
  {
   "cell_type": "code",
   "execution_count": 15,
   "metadata": {},
   "outputs": [
    {
     "name": "stdout",
     "output_type": "stream",
     "text": [
      "Error cuadrático medio: 4.4064677438655435\n",
      "raiz del error cuadratico medio 2.0991588181615852\n",
      "Coeficiente de determinación: 0.13996794332514984\n"
     ]
    }
   ],
   "source": [
    "# Crear el modelo de Random Forest con la mejor profundidad\n",
    "rf_model = RandomForestRegressor(max_depth=best_depth, random_state=42)\n",
    "\n",
    "# Entrenar el modelo\n",
    "rf_model.fit(X_train, y_train)\n",
    "\n",
    "# Predecir en el conjunto de prueba\n",
    "y_pred = rf_model.predict(X_test)\n",
    "\n",
    "# Calcular el error cuadrático medio\n",
    "mse = mean_squared_error(y_test, y_pred)\n",
    "print(\"Error cuadrático medio:\", mse)\n",
    "\n",
    "# Calcular la raiz del error cuadratico medio\n",
    "rmse = root_mean_squared_error(y_test, y_pred)\n",
    "print(\"raiz del error cuadratico medio\", rmse)\n",
    "\n",
    "# Calcular el coeficiente de determinación\n",
    "r2 = r2_score(y_test, y_pred)\n",
    "print(\"Coeficiente de determinación:\", r2)"
   ]
  },
  {
   "cell_type": "markdown",
   "metadata": {},
   "source": [
    "#### Train Data Set"
   ]
  },
  {
   "cell_type": "code",
   "execution_count": 16,
   "metadata": {},
   "outputs": [
    {
     "name": "stdout",
     "output_type": "stream",
     "text": [
      "Error cuadrático medio (entrenamiento): 3.926126832818633\n",
      "Raiz del error cuadratico medio (entrenamiento): 1.9814456421559066\n",
      "Coeficiente de determinación (entrenamiento): 0.2537315825239762\n"
     ]
    }
   ],
   "source": [
    "# Crear el modelo de Random Forest con la mejor profundidad\n",
    "rf_model = RandomForestRegressor(max_depth=best_depth, random_state=42)\n",
    "\n",
    "# Entrenar el modelo\n",
    "rf_model.fit(X_train, y_train)\n",
    "\n",
    "# Predecir en el conjunto de entrenamiento\n",
    "y_train_pred = rf_model.predict(X_train)\n",
    "\n",
    "# Calcular el error cuadrático medio\n",
    "mse_train = mean_squared_error(y_train, y_train_pred)\n",
    "print(\"Error cuadrático medio (entrenamiento):\", mse_train)\n",
    "\n",
    "# Calcular la raiz del error cuadratico medio\n",
    "rmse_train = np.sqrt(mse_train)\n",
    "print(\"Raiz del error cuadratico medio (entrenamiento):\", rmse_train)\n",
    "\n",
    "# Calcular el coeficiente de determinación\n",
    "r2_train = r2_score(y_train, y_train_pred)\n",
    "print(\"Coeficiente de determinación (entrenamiento):\", r2_train)"
   ]
  },
  {
   "cell_type": "markdown",
   "metadata": {},
   "source": [
    "### Segundo modelo: Ajuste de hiperparámetros\n",
    "pop en condicion_egreso, municipio, region. Filtrando el DataFrame para mantener solo las filas donde el departamento es Guatemala."
   ]
  },
  {
   "cell_type": "code",
   "execution_count": 16,
   "metadata": {},
   "outputs": [],
   "source": [
    "df_cp = data.copy()\n",
    "\n",
    "df_cp.pop('condicion_egreso')\n",
    "df_cp.pop('municipio')\n",
    "df_cp.pop('region')\n",
    "\n",
    "df_cp = df_cp[df_cp['departamento'] == 'Guatemala']\n",
    "df_cp.pop('departamento')\n",
    "\n",
    "freq = df_cp['dias_estancia'].value_counts()\n",
    "df_cp = df_cp.loc[df_cp['dias_estancia'] <= 30]\n",
    "\n",
    "uniques = freq[freq == 1].index\n",
    "df_cp = df_cp.loc[~df_cp['dias_estancia'].isin(uniques)]\n",
    "\n",
    "y = df_cp.pop('dias_estancia')\n",
    "X = df_cp\n",
    "description = chageNotNumericVars(X)"
   ]
  },
  {
   "cell_type": "code",
   "execution_count": 17,
   "metadata": {},
   "outputs": [
    {
     "name": "stdout",
     "output_type": "stream",
     "text": [
      "Fitting 3 folds for each of 16 candidates, totalling 48 fits\n",
      "[CV] END .....................max_depth=20, n_estimators=150; total time= 2.8min\n",
      "[CV] END .....................max_depth=20, n_estimators=150; total time= 2.8min\n",
      "[CV] END .....................max_depth=20, n_estimators=200; total time= 3.8min\n",
      "[CV] END .....................max_depth=20, n_estimators=200; total time= 3.8min\n",
      "[CV] END .....................max_depth=20, n_estimators=200; total time= 3.8min\n",
      "[CV] END .....................max_depth=20, n_estimators=100; total time= 1.9min\n",
      "[CV] END .....................max_depth=20, n_estimators=300; total time= 5.6min\n",
      "[CV] END .....................max_depth=20, n_estimators=100; total time= 1.9min\n",
      "[CV] END .....................max_depth=20, n_estimators=150; total time= 2.8min\n",
      "[CV] END .....................max_depth=20, n_estimators=300; total time= 5.6min\n",
      "[CV] END .....................max_depth=20, n_estimators=100; total time= 1.9min\n",
      "[CV] END .....................max_depth=20, n_estimators=300; total time= 5.7min\n",
      "[CV] END .....................max_depth=15, n_estimators=200; total time= 3.2min\n",
      "[CV] END .....................max_depth=15, n_estimators=200; total time= 3.2min\n",
      "[CV] END .....................max_depth=15, n_estimators=150; total time= 2.4min\n",
      "[CV] END .....................max_depth=15, n_estimators=150; total time= 2.4min\n",
      "[CV] END .....................max_depth=15, n_estimators=200; total time= 3.3min\n"
     ]
    },
    {
     "name": "stderr",
     "output_type": "stream",
     "text": [
      "/opt/homebrew/lib/python3.11/site-packages/joblib/externals/loky/process_executor.py:752: UserWarning: A worker stopped while some jobs were given to the executor. This can be caused by a too short worker timeout or by a memory leak.\n",
      "  warnings.warn(\n"
     ]
    },
    {
     "name": "stdout",
     "output_type": "stream",
     "text": [
      "[CV] END .....................max_depth=15, n_estimators=150; total time= 2.5min\n",
      "[CV] END .....................max_depth=15, n_estimators=100; total time= 1.6min\n",
      "[CV] END .....................max_depth=15, n_estimators=100; total time= 1.6min\n",
      "[CV] END .....................max_depth=15, n_estimators=100; total time= 1.6min\n",
      "[CV] END .....................max_depth=15, n_estimators=300; total time= 4.9min\n",
      "[CV] END .....................max_depth=15, n_estimators=300; total time= 4.9min\n",
      "[CV] END .....................max_depth=15, n_estimators=300; total time= 4.9min\n",
      "[CV] END .....................max_depth=10, n_estimators=200; total time= 2.6min\n",
      "[CV] END .....................max_depth=10, n_estimators=200; total time= 2.5min\n",
      "[CV] END .....................max_depth=10, n_estimators=200; total time= 2.6min\n",
      "[CV] END .....................max_depth=10, n_estimators=150; total time= 1.9min\n",
      "[CV] END .....................max_depth=10, n_estimators=150; total time= 1.9min\n",
      "[CV] END .....................max_depth=10, n_estimators=100; total time= 1.3min\n",
      "[CV] END .....................max_depth=10, n_estimators=150; total time= 1.9min\n",
      "[CV] END .....................max_depth=10, n_estimators=100; total time= 1.3min\n",
      "[CV] END .....................max_depth=10, n_estimators=300; total time= 3.9min\n",
      "[CV] END .....................max_depth=10, n_estimators=300; total time= 3.9min\n",
      "[CV] END .....................max_depth=10, n_estimators=100; total time= 1.3min\n",
      "[CV] END ......................max_depth=5, n_estimators=200; total time= 1.5min\n",
      "[CV] END .....................max_depth=10, n_estimators=300; total time= 3.9min\n",
      "[CV] END ......................max_depth=5, n_estimators=200; total time= 1.5min\n",
      "[CV] END ......................max_depth=5, n_estimators=200; total time= 1.5min\n",
      "[CV] END ......................max_depth=5, n_estimators=150; total time= 1.2min\n",
      "[CV] END ......................max_depth=5, n_estimators=150; total time= 1.2min\n",
      "[CV] END ......................max_depth=5, n_estimators=150; total time= 1.1min\n",
      "[CV] END ......................max_depth=5, n_estimators=100; total time=  44.4s\n",
      "[CV] END ......................max_depth=5, n_estimators=100; total time=  43.1s\n",
      "[CV] END ......................max_depth=5, n_estimators=100; total time=  43.3s\n",
      "[CV] END ......................max_depth=5, n_estimators=300; total time= 2.3min\n",
      "[CV] END ......................max_depth=5, n_estimators=300; total time= 2.2min\n",
      "[CV] END ......................max_depth=5, n_estimators=300; total time= 2.2min\n"
     ]
    },
    {
     "data": {
      "text/html": [
       "<style>#sk-container-id-1 {\n",
       "  /* Definition of color scheme common for light and dark mode */\n",
       "  --sklearn-color-text: black;\n",
       "  --sklearn-color-line: gray;\n",
       "  /* Definition of color scheme for unfitted estimators */\n",
       "  --sklearn-color-unfitted-level-0: #fff5e6;\n",
       "  --sklearn-color-unfitted-level-1: #f6e4d2;\n",
       "  --sklearn-color-unfitted-level-2: #ffe0b3;\n",
       "  --sklearn-color-unfitted-level-3: chocolate;\n",
       "  /* Definition of color scheme for fitted estimators */\n",
       "  --sklearn-color-fitted-level-0: #f0f8ff;\n",
       "  --sklearn-color-fitted-level-1: #d4ebff;\n",
       "  --sklearn-color-fitted-level-2: #b3dbfd;\n",
       "  --sklearn-color-fitted-level-3: cornflowerblue;\n",
       "\n",
       "  /* Specific color for light theme */\n",
       "  --sklearn-color-text-on-default-background: var(--sg-text-color, var(--theme-code-foreground, var(--jp-content-font-color1, black)));\n",
       "  --sklearn-color-background: var(--sg-background-color, var(--theme-background, var(--jp-layout-color0, white)));\n",
       "  --sklearn-color-border-box: var(--sg-text-color, var(--theme-code-foreground, var(--jp-content-font-color1, black)));\n",
       "  --sklearn-color-icon: #696969;\n",
       "\n",
       "  @media (prefers-color-scheme: dark) {\n",
       "    /* Redefinition of color scheme for dark theme */\n",
       "    --sklearn-color-text-on-default-background: var(--sg-text-color, var(--theme-code-foreground, var(--jp-content-font-color1, white)));\n",
       "    --sklearn-color-background: var(--sg-background-color, var(--theme-background, var(--jp-layout-color0, #111)));\n",
       "    --sklearn-color-border-box: var(--sg-text-color, var(--theme-code-foreground, var(--jp-content-font-color1, white)));\n",
       "    --sklearn-color-icon: #878787;\n",
       "  }\n",
       "}\n",
       "\n",
       "#sk-container-id-1 {\n",
       "  color: var(--sklearn-color-text);\n",
       "}\n",
       "\n",
       "#sk-container-id-1 pre {\n",
       "  padding: 0;\n",
       "}\n",
       "\n",
       "#sk-container-id-1 input.sk-hidden--visually {\n",
       "  border: 0;\n",
       "  clip: rect(1px 1px 1px 1px);\n",
       "  clip: rect(1px, 1px, 1px, 1px);\n",
       "  height: 1px;\n",
       "  margin: -1px;\n",
       "  overflow: hidden;\n",
       "  padding: 0;\n",
       "  position: absolute;\n",
       "  width: 1px;\n",
       "}\n",
       "\n",
       "#sk-container-id-1 div.sk-dashed-wrapped {\n",
       "  border: 1px dashed var(--sklearn-color-line);\n",
       "  margin: 0 0.4em 0.5em 0.4em;\n",
       "  box-sizing: border-box;\n",
       "  padding-bottom: 0.4em;\n",
       "  background-color: var(--sklearn-color-background);\n",
       "}\n",
       "\n",
       "#sk-container-id-1 div.sk-container {\n",
       "  /* jupyter's `normalize.less` sets `[hidden] { display: none; }`\n",
       "     but bootstrap.min.css set `[hidden] { display: none !important; }`\n",
       "     so we also need the `!important` here to be able to override the\n",
       "     default hidden behavior on the sphinx rendered scikit-learn.org.\n",
       "     See: https://github.com/scikit-learn/scikit-learn/issues/21755 */\n",
       "  display: inline-block !important;\n",
       "  position: relative;\n",
       "}\n",
       "\n",
       "#sk-container-id-1 div.sk-text-repr-fallback {\n",
       "  display: none;\n",
       "}\n",
       "\n",
       "div.sk-parallel-item,\n",
       "div.sk-serial,\n",
       "div.sk-item {\n",
       "  /* draw centered vertical line to link estimators */\n",
       "  background-image: linear-gradient(var(--sklearn-color-text-on-default-background), var(--sklearn-color-text-on-default-background));\n",
       "  background-size: 2px 100%;\n",
       "  background-repeat: no-repeat;\n",
       "  background-position: center center;\n",
       "}\n",
       "\n",
       "/* Parallel-specific style estimator block */\n",
       "\n",
       "#sk-container-id-1 div.sk-parallel-item::after {\n",
       "  content: \"\";\n",
       "  width: 100%;\n",
       "  border-bottom: 2px solid var(--sklearn-color-text-on-default-background);\n",
       "  flex-grow: 1;\n",
       "}\n",
       "\n",
       "#sk-container-id-1 div.sk-parallel {\n",
       "  display: flex;\n",
       "  align-items: stretch;\n",
       "  justify-content: center;\n",
       "  background-color: var(--sklearn-color-background);\n",
       "  position: relative;\n",
       "}\n",
       "\n",
       "#sk-container-id-1 div.sk-parallel-item {\n",
       "  display: flex;\n",
       "  flex-direction: column;\n",
       "}\n",
       "\n",
       "#sk-container-id-1 div.sk-parallel-item:first-child::after {\n",
       "  align-self: flex-end;\n",
       "  width: 50%;\n",
       "}\n",
       "\n",
       "#sk-container-id-1 div.sk-parallel-item:last-child::after {\n",
       "  align-self: flex-start;\n",
       "  width: 50%;\n",
       "}\n",
       "\n",
       "#sk-container-id-1 div.sk-parallel-item:only-child::after {\n",
       "  width: 0;\n",
       "}\n",
       "\n",
       "/* Serial-specific style estimator block */\n",
       "\n",
       "#sk-container-id-1 div.sk-serial {\n",
       "  display: flex;\n",
       "  flex-direction: column;\n",
       "  align-items: center;\n",
       "  background-color: var(--sklearn-color-background);\n",
       "  padding-right: 1em;\n",
       "  padding-left: 1em;\n",
       "}\n",
       "\n",
       "\n",
       "/* Toggleable style: style used for estimator/Pipeline/ColumnTransformer box that is\n",
       "clickable and can be expanded/collapsed.\n",
       "- Pipeline and ColumnTransformer use this feature and define the default style\n",
       "- Estimators will overwrite some part of the style using the `sk-estimator` class\n",
       "*/\n",
       "\n",
       "/* Pipeline and ColumnTransformer style (default) */\n",
       "\n",
       "#sk-container-id-1 div.sk-toggleable {\n",
       "  /* Default theme specific background. It is overwritten whether we have a\n",
       "  specific estimator or a Pipeline/ColumnTransformer */\n",
       "  background-color: var(--sklearn-color-background);\n",
       "}\n",
       "\n",
       "/* Toggleable label */\n",
       "#sk-container-id-1 label.sk-toggleable__label {\n",
       "  cursor: pointer;\n",
       "  display: block;\n",
       "  width: 100%;\n",
       "  margin-bottom: 0;\n",
       "  padding: 0.5em;\n",
       "  box-sizing: border-box;\n",
       "  text-align: center;\n",
       "}\n",
       "\n",
       "#sk-container-id-1 label.sk-toggleable__label-arrow:before {\n",
       "  /* Arrow on the left of the label */\n",
       "  content: \"▸\";\n",
       "  float: left;\n",
       "  margin-right: 0.25em;\n",
       "  color: var(--sklearn-color-icon);\n",
       "}\n",
       "\n",
       "#sk-container-id-1 label.sk-toggleable__label-arrow:hover:before {\n",
       "  color: var(--sklearn-color-text);\n",
       "}\n",
       "\n",
       "/* Toggleable content - dropdown */\n",
       "\n",
       "#sk-container-id-1 div.sk-toggleable__content {\n",
       "  max-height: 0;\n",
       "  max-width: 0;\n",
       "  overflow: hidden;\n",
       "  text-align: left;\n",
       "  /* unfitted */\n",
       "  background-color: var(--sklearn-color-unfitted-level-0);\n",
       "}\n",
       "\n",
       "#sk-container-id-1 div.sk-toggleable__content.fitted {\n",
       "  /* fitted */\n",
       "  background-color: var(--sklearn-color-fitted-level-0);\n",
       "}\n",
       "\n",
       "#sk-container-id-1 div.sk-toggleable__content pre {\n",
       "  margin: 0.2em;\n",
       "  border-radius: 0.25em;\n",
       "  color: var(--sklearn-color-text);\n",
       "  /* unfitted */\n",
       "  background-color: var(--sklearn-color-unfitted-level-0);\n",
       "}\n",
       "\n",
       "#sk-container-id-1 div.sk-toggleable__content.fitted pre {\n",
       "  /* unfitted */\n",
       "  background-color: var(--sklearn-color-fitted-level-0);\n",
       "}\n",
       "\n",
       "#sk-container-id-1 input.sk-toggleable__control:checked~div.sk-toggleable__content {\n",
       "  /* Expand drop-down */\n",
       "  max-height: 200px;\n",
       "  max-width: 100%;\n",
       "  overflow: auto;\n",
       "}\n",
       "\n",
       "#sk-container-id-1 input.sk-toggleable__control:checked~label.sk-toggleable__label-arrow:before {\n",
       "  content: \"▾\";\n",
       "}\n",
       "\n",
       "/* Pipeline/ColumnTransformer-specific style */\n",
       "\n",
       "#sk-container-id-1 div.sk-label input.sk-toggleable__control:checked~label.sk-toggleable__label {\n",
       "  color: var(--sklearn-color-text);\n",
       "  background-color: var(--sklearn-color-unfitted-level-2);\n",
       "}\n",
       "\n",
       "#sk-container-id-1 div.sk-label.fitted input.sk-toggleable__control:checked~label.sk-toggleable__label {\n",
       "  background-color: var(--sklearn-color-fitted-level-2);\n",
       "}\n",
       "\n",
       "/* Estimator-specific style */\n",
       "\n",
       "/* Colorize estimator box */\n",
       "#sk-container-id-1 div.sk-estimator input.sk-toggleable__control:checked~label.sk-toggleable__label {\n",
       "  /* unfitted */\n",
       "  background-color: var(--sklearn-color-unfitted-level-2);\n",
       "}\n",
       "\n",
       "#sk-container-id-1 div.sk-estimator.fitted input.sk-toggleable__control:checked~label.sk-toggleable__label {\n",
       "  /* fitted */\n",
       "  background-color: var(--sklearn-color-fitted-level-2);\n",
       "}\n",
       "\n",
       "#sk-container-id-1 div.sk-label label.sk-toggleable__label,\n",
       "#sk-container-id-1 div.sk-label label {\n",
       "  /* The background is the default theme color */\n",
       "  color: var(--sklearn-color-text-on-default-background);\n",
       "}\n",
       "\n",
       "/* On hover, darken the color of the background */\n",
       "#sk-container-id-1 div.sk-label:hover label.sk-toggleable__label {\n",
       "  color: var(--sklearn-color-text);\n",
       "  background-color: var(--sklearn-color-unfitted-level-2);\n",
       "}\n",
       "\n",
       "/* Label box, darken color on hover, fitted */\n",
       "#sk-container-id-1 div.sk-label.fitted:hover label.sk-toggleable__label.fitted {\n",
       "  color: var(--sklearn-color-text);\n",
       "  background-color: var(--sklearn-color-fitted-level-2);\n",
       "}\n",
       "\n",
       "/* Estimator label */\n",
       "\n",
       "#sk-container-id-1 div.sk-label label {\n",
       "  font-family: monospace;\n",
       "  font-weight: bold;\n",
       "  display: inline-block;\n",
       "  line-height: 1.2em;\n",
       "}\n",
       "\n",
       "#sk-container-id-1 div.sk-label-container {\n",
       "  text-align: center;\n",
       "}\n",
       "\n",
       "/* Estimator-specific */\n",
       "#sk-container-id-1 div.sk-estimator {\n",
       "  font-family: monospace;\n",
       "  border: 1px dotted var(--sklearn-color-border-box);\n",
       "  border-radius: 0.25em;\n",
       "  box-sizing: border-box;\n",
       "  margin-bottom: 0.5em;\n",
       "  /* unfitted */\n",
       "  background-color: var(--sklearn-color-unfitted-level-0);\n",
       "}\n",
       "\n",
       "#sk-container-id-1 div.sk-estimator.fitted {\n",
       "  /* fitted */\n",
       "  background-color: var(--sklearn-color-fitted-level-0);\n",
       "}\n",
       "\n",
       "/* on hover */\n",
       "#sk-container-id-1 div.sk-estimator:hover {\n",
       "  /* unfitted */\n",
       "  background-color: var(--sklearn-color-unfitted-level-2);\n",
       "}\n",
       "\n",
       "#sk-container-id-1 div.sk-estimator.fitted:hover {\n",
       "  /* fitted */\n",
       "  background-color: var(--sklearn-color-fitted-level-2);\n",
       "}\n",
       "\n",
       "/* Specification for estimator info (e.g. \"i\" and \"?\") */\n",
       "\n",
       "/* Common style for \"i\" and \"?\" */\n",
       "\n",
       ".sk-estimator-doc-link,\n",
       "a:link.sk-estimator-doc-link,\n",
       "a:visited.sk-estimator-doc-link {\n",
       "  float: right;\n",
       "  font-size: smaller;\n",
       "  line-height: 1em;\n",
       "  font-family: monospace;\n",
       "  background-color: var(--sklearn-color-background);\n",
       "  border-radius: 1em;\n",
       "  height: 1em;\n",
       "  width: 1em;\n",
       "  text-decoration: none !important;\n",
       "  margin-left: 1ex;\n",
       "  /* unfitted */\n",
       "  border: var(--sklearn-color-unfitted-level-1) 1pt solid;\n",
       "  color: var(--sklearn-color-unfitted-level-1);\n",
       "}\n",
       "\n",
       ".sk-estimator-doc-link.fitted,\n",
       "a:link.sk-estimator-doc-link.fitted,\n",
       "a:visited.sk-estimator-doc-link.fitted {\n",
       "  /* fitted */\n",
       "  border: var(--sklearn-color-fitted-level-1) 1pt solid;\n",
       "  color: var(--sklearn-color-fitted-level-1);\n",
       "}\n",
       "\n",
       "/* On hover */\n",
       "div.sk-estimator:hover .sk-estimator-doc-link:hover,\n",
       ".sk-estimator-doc-link:hover,\n",
       "div.sk-label-container:hover .sk-estimator-doc-link:hover,\n",
       ".sk-estimator-doc-link:hover {\n",
       "  /* unfitted */\n",
       "  background-color: var(--sklearn-color-unfitted-level-3);\n",
       "  color: var(--sklearn-color-background);\n",
       "  text-decoration: none;\n",
       "}\n",
       "\n",
       "div.sk-estimator.fitted:hover .sk-estimator-doc-link.fitted:hover,\n",
       ".sk-estimator-doc-link.fitted:hover,\n",
       "div.sk-label-container:hover .sk-estimator-doc-link.fitted:hover,\n",
       ".sk-estimator-doc-link.fitted:hover {\n",
       "  /* fitted */\n",
       "  background-color: var(--sklearn-color-fitted-level-3);\n",
       "  color: var(--sklearn-color-background);\n",
       "  text-decoration: none;\n",
       "}\n",
       "\n",
       "/* Span, style for the box shown on hovering the info icon */\n",
       ".sk-estimator-doc-link span {\n",
       "  display: none;\n",
       "  z-index: 9999;\n",
       "  position: relative;\n",
       "  font-weight: normal;\n",
       "  right: .2ex;\n",
       "  padding: .5ex;\n",
       "  margin: .5ex;\n",
       "  width: min-content;\n",
       "  min-width: 20ex;\n",
       "  max-width: 50ex;\n",
       "  color: var(--sklearn-color-text);\n",
       "  box-shadow: 2pt 2pt 4pt #999;\n",
       "  /* unfitted */\n",
       "  background: var(--sklearn-color-unfitted-level-0);\n",
       "  border: .5pt solid var(--sklearn-color-unfitted-level-3);\n",
       "}\n",
       "\n",
       ".sk-estimator-doc-link.fitted span {\n",
       "  /* fitted */\n",
       "  background: var(--sklearn-color-fitted-level-0);\n",
       "  border: var(--sklearn-color-fitted-level-3);\n",
       "}\n",
       "\n",
       ".sk-estimator-doc-link:hover span {\n",
       "  display: block;\n",
       "}\n",
       "\n",
       "/* \"?\"-specific style due to the `<a>` HTML tag */\n",
       "\n",
       "#sk-container-id-1 a.estimator_doc_link {\n",
       "  float: right;\n",
       "  font-size: 1rem;\n",
       "  line-height: 1em;\n",
       "  font-family: monospace;\n",
       "  background-color: var(--sklearn-color-background);\n",
       "  border-radius: 1rem;\n",
       "  height: 1rem;\n",
       "  width: 1rem;\n",
       "  text-decoration: none;\n",
       "  /* unfitted */\n",
       "  color: var(--sklearn-color-unfitted-level-1);\n",
       "  border: var(--sklearn-color-unfitted-level-1) 1pt solid;\n",
       "}\n",
       "\n",
       "#sk-container-id-1 a.estimator_doc_link.fitted {\n",
       "  /* fitted */\n",
       "  border: var(--sklearn-color-fitted-level-1) 1pt solid;\n",
       "  color: var(--sklearn-color-fitted-level-1);\n",
       "}\n",
       "\n",
       "/* On hover */\n",
       "#sk-container-id-1 a.estimator_doc_link:hover {\n",
       "  /* unfitted */\n",
       "  background-color: var(--sklearn-color-unfitted-level-3);\n",
       "  color: var(--sklearn-color-background);\n",
       "  text-decoration: none;\n",
       "}\n",
       "\n",
       "#sk-container-id-1 a.estimator_doc_link.fitted:hover {\n",
       "  /* fitted */\n",
       "  background-color: var(--sklearn-color-fitted-level-3);\n",
       "}\n",
       "</style><div id=\"sk-container-id-1\" class=\"sk-top-container\"><div class=\"sk-text-repr-fallback\"><pre>GridSearchCV(cv=3, estimator=RandomForestRegressor(random_state=42), n_jobs=-1,\n",
       "             param_grid={&#x27;max_depth&#x27;: [20, 15, 10, 5],\n",
       "                         &#x27;n_estimators&#x27;: [200, 300, 150, 100]},\n",
       "             scoring=&#x27;neg_mean_squared_error&#x27;, verbose=2)</pre><b>In a Jupyter environment, please rerun this cell to show the HTML representation or trust the notebook. <br />On GitHub, the HTML representation is unable to render, please try loading this page with nbviewer.org.</b></div><div class=\"sk-container\" hidden><div class=\"sk-item sk-dashed-wrapped\"><div class=\"sk-label-container\"><div class=\"sk-label fitted sk-toggleable\"><input class=\"sk-toggleable__control sk-hidden--visually\" id=\"sk-estimator-id-1\" type=\"checkbox\" ><label for=\"sk-estimator-id-1\" class=\"sk-toggleable__label fitted sk-toggleable__label-arrow fitted\">&nbsp;&nbsp;GridSearchCV<a class=\"sk-estimator-doc-link fitted\" rel=\"noreferrer\" target=\"_blank\" href=\"https://scikit-learn.org/1.4/modules/generated/sklearn.model_selection.GridSearchCV.html\">?<span>Documentation for GridSearchCV</span></a><span class=\"sk-estimator-doc-link fitted\">i<span>Fitted</span></span></label><div class=\"sk-toggleable__content fitted\"><pre>GridSearchCV(cv=3, estimator=RandomForestRegressor(random_state=42), n_jobs=-1,\n",
       "             param_grid={&#x27;max_depth&#x27;: [20, 15, 10, 5],\n",
       "                         &#x27;n_estimators&#x27;: [200, 300, 150, 100]},\n",
       "             scoring=&#x27;neg_mean_squared_error&#x27;, verbose=2)</pre></div> </div></div><div class=\"sk-parallel\"><div class=\"sk-parallel-item\"><div class=\"sk-item\"><div class=\"sk-label-container\"><div class=\"sk-label fitted sk-toggleable\"><input class=\"sk-toggleable__control sk-hidden--visually\" id=\"sk-estimator-id-2\" type=\"checkbox\" ><label for=\"sk-estimator-id-2\" class=\"sk-toggleable__label fitted sk-toggleable__label-arrow fitted\">estimator: RandomForestRegressor</label><div class=\"sk-toggleable__content fitted\"><pre>RandomForestRegressor(random_state=42)</pre></div> </div></div><div class=\"sk-serial\"><div class=\"sk-item\"><div class=\"sk-estimator fitted sk-toggleable\"><input class=\"sk-toggleable__control sk-hidden--visually\" id=\"sk-estimator-id-3\" type=\"checkbox\" ><label for=\"sk-estimator-id-3\" class=\"sk-toggleable__label fitted sk-toggleable__label-arrow fitted\">&nbsp;RandomForestRegressor<a class=\"sk-estimator-doc-link fitted\" rel=\"noreferrer\" target=\"_blank\" href=\"https://scikit-learn.org/1.4/modules/generated/sklearn.ensemble.RandomForestRegressor.html\">?<span>Documentation for RandomForestRegressor</span></a></label><div class=\"sk-toggleable__content fitted\"><pre>RandomForestRegressor(random_state=42)</pre></div> </div></div></div></div></div></div></div></div></div>"
      ],
      "text/plain": [
       "GridSearchCV(cv=3, estimator=RandomForestRegressor(random_state=42), n_jobs=-1,\n",
       "             param_grid={'max_depth': [20, 15, 10, 5],\n",
       "                         'n_estimators': [200, 300, 150, 100]},\n",
       "             scoring='neg_mean_squared_error', verbose=2)"
      ]
     },
     "execution_count": 17,
     "metadata": {},
     "output_type": "execute_result"
    }
   ],
   "source": [
    "# Definición de hiperparámetros\n",
    "param_grid = {\n",
    "    'max_depth': [20, 15, 10, 5],\n",
    "    'n_estimators': [200, 300, 150, 100]\n",
    "}\n",
    "\n",
    "# Modelo de Random Forest\n",
    "rf = RandomForestRegressor(random_state=42)\n",
    "\n",
    "# Crear el objeto de búsqueda por cuadrícula\n",
    "grid_search = GridSearchCV(estimator=rf, param_grid=param_grid, cv=3, scoring='neg_mean_squared_error', verbose=2, n_jobs=-1)\n",
    "\n",
    "# Ajustar el modelo\n",
    "grid_search.fit(X_train, y_train)"
   ]
  },
  {
   "cell_type": "markdown",
   "metadata": {},
   "source": [
    "### Test Data Set"
   ]
  },
  {
   "cell_type": "code",
   "execution_count": 18,
   "metadata": {},
   "outputs": [
    {
     "name": "stdout",
     "output_type": "stream",
     "text": [
      "{'max_depth': 15, 'n_estimators': 300}\n",
      "Error cuadrático medio: 4.403329642178853\n",
      "Raiz del error cuadratico medio: 2.0984112185600927\n",
      "Coeficiente de determinación: 0.1405804221187179\n"
     ]
    }
   ],
   "source": [
    "# Ver los mejores hiperparámetros\n",
    "print(grid_search.best_params_)\n",
    "\n",
    "# Usar el mejor modelo\n",
    "best_rf = grid_search.best_estimator_\n",
    "\n",
    "# Predecir en el conjunto de prueba\n",
    "y_pred = best_rf.predict(X_test)\n",
    "\n",
    "# Calcular el error cuadrático medio\n",
    "mse = mean_squared_error(y_test, y_pred)\n",
    "print(\"Error cuadrático medio:\", mse)\n",
    "\n",
    "# Calcular la raiz del error cuadratico medio\n",
    "rmse = np.sqrt(mse)\n",
    "print(\"Raiz del error cuadratico medio:\", rmse)\n",
    "\n",
    "# Calcular el coeficiente de determinación\n",
    "r2 = r2_score(y_test, y_pred)\n",
    "print(\"Coeficiente de determinación:\", r2)"
   ]
  },
  {
   "cell_type": "markdown",
   "metadata": {},
   "source": [
    "#### Train Data Set"
   ]
  },
  {
   "cell_type": "code",
   "execution_count": 19,
   "metadata": {},
   "outputs": [
    {
     "name": "stdout",
     "output_type": "stream",
     "text": [
      "{'max_depth': 15, 'n_estimators': 300}\n",
      "Error cuadrático medio: 3.9227737153277897\n",
      "Raiz del error cuadratico medio: 1.980599332355686\n",
      "Coeficiente de determinación: 0.25436893475177136\n"
     ]
    }
   ],
   "source": [
    "# Ver los mejores hiperparámetros\n",
    "print(grid_search.best_params_)\n",
    "\n",
    "# Usar el mejor modelo\n",
    "best_rf = grid_search.best_estimator_\n",
    "\n",
    "# Predecir en el conjunto de prueba\n",
    "y_pred = best_rf.predict(X_train)\n",
    "\n",
    "# Calcular el error cuadrático medio\n",
    "mse = mean_squared_error(y_train, y_pred)\n",
    "print(\"Error cuadrático medio:\", mse)\n",
    "\n",
    "# Calcular la raiz del error cuadratico medio\n",
    "rmse = np.sqrt(mse)\n",
    "print(\"Raiz del error cuadratico medio:\", rmse)\n",
    "\n",
    "# Calcular el coeficiente de determinación\n",
    "r2 = r2_score(y_train, y_pred)\n",
    "print(\"Coeficiente de determinación:\", r2)"
   ]
  }
 ],
 "metadata": {
  "kernelspec": {
   "display_name": "Python 3",
   "language": "python",
   "name": "python3"
  },
  "language_info": {
   "codemirror_mode": {
    "name": "ipython",
    "version": 3
   },
   "file_extension": ".py",
   "mimetype": "text/x-python",
   "name": "python",
   "nbconvert_exporter": "python",
   "pygments_lexer": "ipython3",
   "version": "3.9.13"
  }
 },
 "nbformat": 4,
 "nbformat_minor": 2
}
