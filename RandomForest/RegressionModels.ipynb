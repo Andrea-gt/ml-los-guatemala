{
 "cells": [
  {
   "cell_type": "markdown",
   "metadata": {},
   "source": [
    "# Random Forest Algorithm: Regression Models"
   ]
  },
  {
   "cell_type": "markdown",
   "metadata": {},
   "source": [
    "#### Importación de librerías ⬇️"
   ]
  },
  {
   "cell_type": "code",
   "execution_count": 2,
   "metadata": {},
   "outputs": [],
   "source": [
    "import pickle\n",
    "from sklearn.ensemble import RandomForestRegressor, RandomForestClassifier\n",
    "from sklearn.tree import export_text, plot_tree\n",
    "from sklearn.metrics import r2_score, mean_squared_error, precision_score, recall_score, f1_score, confusion_matrix, root_mean_squared_error\n",
    "from sklearn.model_selection import train_test_split\n",
    "import matplotlib.pyplot as plt\n",
    "from sklearn.tree import DecisionTreeRegressor\n",
    "import pandas as pd\n",
    "import numpy as np\n",
    "from sklearn.model_selection import GridSearchCV\n",
    "from sklearn.metrics import accuracy_score\n",
    "import seaborn as sns"
   ]
  },
  {
   "cell_type": "code",
   "execution_count": 3,
   "metadata": {},
   "outputs": [],
   "source": [
    "# Importar data de un csv\n",
    "data = pd.read_csv('../los_data_gt.csv')"
   ]
  },
  {
   "cell_type": "code",
   "execution_count": 4,
   "metadata": {},
   "outputs": [
    {
     "data": {
      "text/plain": [
       "Index(['dias_estancia', 'sexo', 'grupo_etnico', 'departamento', 'municipio',\n",
       "       'causa_atencion', 'condicion_egreso', 'tratamiento_recibido',\n",
       "       'edad_correcta', 'causa_categoria', 'edad_categoria', 'region'],\n",
       "      dtype='object')"
      ]
     },
     "execution_count": 4,
     "metadata": {},
     "output_type": "execute_result"
    }
   ],
   "source": [
    "data.columns"
   ]
  },
  {
   "cell_type": "code",
   "execution_count": 5,
   "metadata": {},
   "outputs": [
    {
     "data": {
      "text/html": [
       "<div>\n",
       "<style scoped>\n",
       "    .dataframe tbody tr th:only-of-type {\n",
       "        vertical-align: middle;\n",
       "    }\n",
       "\n",
       "    .dataframe tbody tr th {\n",
       "        vertical-align: top;\n",
       "    }\n",
       "\n",
       "    .dataframe thead th {\n",
       "        text-align: right;\n",
       "    }\n",
       "</style>\n",
       "<table border=\"1\" class=\"dataframe\">\n",
       "  <thead>\n",
       "    <tr style=\"text-align: right;\">\n",
       "      <th></th>\n",
       "      <th>dias_estancia</th>\n",
       "      <th>sexo</th>\n",
       "      <th>grupo_etnico</th>\n",
       "      <th>departamento</th>\n",
       "      <th>municipio</th>\n",
       "      <th>causa_atencion</th>\n",
       "      <th>condicion_egreso</th>\n",
       "      <th>tratamiento_recibido</th>\n",
       "      <th>edad_correcta</th>\n",
       "      <th>causa_categoria</th>\n",
       "      <th>edad_categoria</th>\n",
       "      <th>region</th>\n",
       "    </tr>\n",
       "  </thead>\n",
       "  <tbody>\n",
       "    <tr>\n",
       "      <th>0</th>\n",
       "      <td>1.0</td>\n",
       "      <td>Hombre</td>\n",
       "      <td>Ignorado</td>\n",
       "      <td>Guatemala</td>\n",
       "      <td>San Juan Sacatepéquez</td>\n",
       "      <td>P95X</td>\n",
       "      <td>Vivo</td>\n",
       "      <td>Médico</td>\n",
       "      <td>0.0</td>\n",
       "      <td>Certain conditions originating in the perinata...</td>\n",
       "      <td>Primera Infancia</td>\n",
       "      <td>Central</td>\n",
       "    </tr>\n",
       "    <tr>\n",
       "      <th>1</th>\n",
       "      <td>1.0</td>\n",
       "      <td>Mujer</td>\n",
       "      <td>Ignorado</td>\n",
       "      <td>Zacapa</td>\n",
       "      <td>Zacapa</td>\n",
       "      <td>P95X</td>\n",
       "      <td>Vivo</td>\n",
       "      <td>Médico</td>\n",
       "      <td>0.0</td>\n",
       "      <td>Certain conditions originating in the perinata...</td>\n",
       "      <td>Primera Infancia</td>\n",
       "      <td>Nororiente</td>\n",
       "    </tr>\n",
       "    <tr>\n",
       "      <th>2</th>\n",
       "      <td>2.0</td>\n",
       "      <td>Mujer</td>\n",
       "      <td>No indígena</td>\n",
       "      <td>Quetzaltenango</td>\n",
       "      <td>Quetzaltenango</td>\n",
       "      <td>P95X</td>\n",
       "      <td>Vivo</td>\n",
       "      <td>Médico</td>\n",
       "      <td>0.0</td>\n",
       "      <td>Certain conditions originating in the perinata...</td>\n",
       "      <td>Primera Infancia</td>\n",
       "      <td>Occidente</td>\n",
       "    </tr>\n",
       "    <tr>\n",
       "      <th>3</th>\n",
       "      <td>2.0</td>\n",
       "      <td>Mujer</td>\n",
       "      <td>No indígena</td>\n",
       "      <td>Quetzaltenango</td>\n",
       "      <td>Quetzaltenango</td>\n",
       "      <td>P95X</td>\n",
       "      <td>Vivo</td>\n",
       "      <td>Médico</td>\n",
       "      <td>0.0</td>\n",
       "      <td>Certain conditions originating in the perinata...</td>\n",
       "      <td>Primera Infancia</td>\n",
       "      <td>Occidente</td>\n",
       "    </tr>\n",
       "    <tr>\n",
       "      <th>4</th>\n",
       "      <td>2.0</td>\n",
       "      <td>Mujer</td>\n",
       "      <td>No indígena</td>\n",
       "      <td>Quetzaltenango</td>\n",
       "      <td>Quetzaltenango</td>\n",
       "      <td>P95X</td>\n",
       "      <td>Vivo</td>\n",
       "      <td>Médico</td>\n",
       "      <td>0.0</td>\n",
       "      <td>Certain conditions originating in the perinata...</td>\n",
       "      <td>Primera Infancia</td>\n",
       "      <td>Occidente</td>\n",
       "    </tr>\n",
       "  </tbody>\n",
       "</table>\n",
       "</div>"
      ],
      "text/plain": [
       "   dias_estancia    sexo grupo_etnico    departamento              municipio  \\\n",
       "0            1.0  Hombre     Ignorado       Guatemala  San Juan Sacatepéquez   \n",
       "1            1.0   Mujer     Ignorado          Zacapa                 Zacapa   \n",
       "2            2.0   Mujer  No indígena  Quetzaltenango         Quetzaltenango   \n",
       "3            2.0   Mujer  No indígena  Quetzaltenango         Quetzaltenango   \n",
       "4            2.0   Mujer  No indígena  Quetzaltenango         Quetzaltenango   \n",
       "\n",
       "  causa_atencion condicion_egreso tratamiento_recibido  edad_correcta  \\\n",
       "0           P95X             Vivo               Médico            0.0   \n",
       "1           P95X             Vivo               Médico            0.0   \n",
       "2           P95X             Vivo               Médico            0.0   \n",
       "3           P95X             Vivo               Médico            0.0   \n",
       "4           P95X             Vivo               Médico            0.0   \n",
       "\n",
       "                                     causa_categoria    edad_categoria  \\\n",
       "0  Certain conditions originating in the perinata...  Primera Infancia   \n",
       "1  Certain conditions originating in the perinata...  Primera Infancia   \n",
       "2  Certain conditions originating in the perinata...  Primera Infancia   \n",
       "3  Certain conditions originating in the perinata...  Primera Infancia   \n",
       "4  Certain conditions originating in the perinata...  Primera Infancia   \n",
       "\n",
       "       region  \n",
       "0     Central  \n",
       "1  Nororiente  \n",
       "2   Occidente  \n",
       "3   Occidente  \n",
       "4   Occidente  "
      ]
     },
     "execution_count": 5,
     "metadata": {},
     "output_type": "execute_result"
    }
   ],
   "source": [
    "data.head()"
   ]
  },
  {
   "cell_type": "code",
   "execution_count": 6,
   "metadata": {},
   "outputs": [],
   "source": [
    "dr = data.copy()"
   ]
  },
  {
   "cell_type": "code",
   "execution_count": 7,
   "metadata": {},
   "outputs": [],
   "source": [
    "# Evaluación de variables\n",
    "def change(variable, dictValue, df2):\n",
    "    count = 1\n",
    "\n",
    "    def changeToVariable(x):\n",
    "        nonlocal count\n",
    "        nonlocal dictValue\n",
    "        if x in dictValue:\n",
    "            return dictValue[x]\n",
    "        else:\n",
    "            dictValue[x] = count\n",
    "            count += 1\n",
    "            return dictValue[x]\n",
    "        \n",
    "    if not pd.api.types.is_numeric_dtype(df2[variable]):\n",
    "        df2[variable] = df2[variable].apply(changeToVariable)\n",
    "\n",
    "\n",
    "def chageNotNumericVars(df):\n",
    "    dicVars = {}\n",
    "    for col in df.columns:\n",
    "        change(col, dicVars, df)\n",
    "    return dicVars"
   ]
  },
  {
   "cell_type": "code",
   "execution_count": 8,
   "metadata": {},
   "outputs": [],
   "source": [
    "y = dr.pop('dias_estancia')\n",
    "dr.pop('condicion_egreso')\n",
    "x = dr\n",
    "description = chageNotNumericVars(dr)"
   ]
  },
  {
   "cell_type": "code",
   "execution_count": 9,
   "metadata": {},
   "outputs": [
    {
     "name": "stdout",
     "output_type": "stream",
     "text": [
      "Tamaño del conjunto de entrenamiento: (1782662, 10)\n",
      "Tamaño del conjunto de prueba: (445666, 10)\n"
     ]
    }
   ],
   "source": [
    "# Separar los conjuntos de entrenamiento y prueba\n",
    "X_train, X_test, y_train, y_test = train_test_split(x, y, test_size=0.2, random_state=42)\n",
    "print(\"Tamaño del conjunto de entrenamiento:\", X_train.shape)\n",
    "print(\"Tamaño del conjunto de prueba:\", X_test.shape)"
   ]
  },
  {
   "cell_type": "markdown",
   "metadata": {},
   "source": [
    "## Primer modelo:\n",
    "pop condicion_egreso, usando el resto de las variables"
   ]
  },
  {
   "cell_type": "code",
   "execution_count": 10,
   "metadata": {},
   "outputs": [],
   "source": [
    "def regressionRandomForest(X_train, y_train, X_test, y_test, deep=None):\n",
    "\n",
    "    # Crear el modelo de Random Forest\n",
    "    rf_model = RandomForestRegressor(random_state=42)\n",
    "\n",
    "    rf_model.fit(X_train, y_train)\n",
    "\n",
    "    # Predecir en el conjunto de prueba\n",
    "    y_pred = rf_model.predict(X_test)\n",
    "\n",
    "    # Calcular el error cuadrático medio\n",
    "    mse = mean_squared_error(y_test, y_pred)\n",
    "    print(\"Error cuadrático medio:\", mse)\n",
    "\n",
    "    # Calcular la raiz del error cuadratico medio\n",
    "    rmse = root_mean_squared_error(y_test, y_pred)\n",
    "    print(\"raiz del error cuadratico medio\", rmse)\n",
    "\n",
    "    # Calcular el coeficiente de determinación\n",
    "    r2 = r2_score(y_test, y_pred)\n",
    "    print(\"Coeficiente de determinación:\", r2)"
   ]
  },
  {
   "cell_type": "code",
   "execution_count": 11,
   "metadata": {},
   "outputs": [
    {
     "name": "stdout",
     "output_type": "stream",
     "text": [
      "Error cuadrático medio: 6.637661921527838\n",
      "raiz del error cuadratico medio 2.576366030192107\n",
      "Coeficiente de determinación: -0.00632898080276334\n"
     ]
    }
   ],
   "source": [
    "regressionRandomForest(X_train, y_train, X_test, y_test)"
   ]
  },
  {
   "cell_type": "code",
   "execution_count": 11,
   "metadata": {},
   "outputs": [],
   "source": [
    "def findBestMaxDepth(X_train, y_train):\n",
    "    # Crear el modelo de Random Forest\n",
    "    rf_model = RandomForestRegressor(random_state=42)\n",
    "\n",
    "    # Definir los hiperparámetros\n",
    "    param_grid = {\n",
    "        'max_depth': list(range(5, 25, 5))\n",
    "    }\n",
    "\n",
    "    # Crear el objeto de búsqueda en la grilla\n",
    "    grid_search = GridSearchCV(estimator=rf_model, param_grid=param_grid, cv=3, n_jobs=-1, verbose=2)\n",
    "\n",
    "    # Realizar la búsqueda en la grilla\n",
    "    grid_search.fit(X_train, y_train)\n",
    "\n",
    "    # Obtener la mejor profundidad\n",
    "    best_depth = grid_search.best_params_['max_depth']\n",
    "\n",
    "    return best_depth"
   ]
  },
  {
   "cell_type": "code",
   "execution_count": 17,
   "metadata": {},
   "outputs": [
    {
     "name": "stdout",
     "output_type": "stream",
     "text": [
      "Fitting 3 folds for each of 4 candidates, totalling 12 fits\n",
      "[CV] END ........................................max_depth=5; total time= 2.2min\n",
      "[CV] END ........................................max_depth=5; total time= 2.2min\n",
      "[CV] END ........................................max_depth=5; total time= 2.2min\n",
      "[CV] END .......................................max_depth=10; total time= 4.0min\n",
      "[CV] END .......................................max_depth=10; total time= 4.0min\n",
      "[CV] END .......................................max_depth=10; total time= 4.0min\n",
      "[CV] END .......................................max_depth=15; total time= 5.1min\n",
      "[CV] END .......................................max_depth=15; total time= 5.1min\n",
      "[CV] END .......................................max_depth=15; total time= 4.4min\n",
      "[CV] END .......................................max_depth=20; total time= 5.0min\n",
      "[CV] END .......................................max_depth=20; total time= 5.0min\n",
      "[CV] END .......................................max_depth=20; total time= 4.4min\n",
      "La mejor profundidad encontrada es: 15\n"
     ]
    }
   ],
   "source": [
    "best_depth = findBestMaxDepth(X_train, y_train)\n",
    "print(f\"La mejor profundidad encontrada es: {best_depth}\")"
   ]
  },
  {
   "cell_type": "code",
   "execution_count": 23,
   "metadata": {},
   "outputs": [
    {
     "name": "stdout",
     "output_type": "stream",
     "text": [
      "Error cuadrático medio: 5.841146730337402\n",
      "raiz del error cuadratico medio 2.4168464432680454\n",
      "Coeficiente de determinación: 0.11442985416364448\n"
     ]
    }
   ],
   "source": [
    "# Crear el modelo de Random Forest con la mejor profundidad\n",
    "rf_model = RandomForestRegressor(max_depth=best_depth, random_state=42)\n",
    "\n",
    "# Entrenar el modelo\n",
    "rf_model.fit(X_train, y_train)\n",
    "\n",
    "# Predecir en el conjunto de prueba\n",
    "y_pred = rf_model.predict(X_test)\n",
    "\n",
    "# Calcular el error cuadrático medio\n",
    "mse = mean_squared_error(y_test, y_pred)\n",
    "print(\"Error cuadrático medio:\", mse)\n",
    "\n",
    "# Calcular la raiz del error cuadratico medio\n",
    "rmse = root_mean_squared_error(y_test, y_pred)\n",
    "print(\"raiz del error cuadratico medio\", rmse)\n",
    "\n",
    "# Calcular el coeficiente de determinación\n",
    "r2 = r2_score(y_test, y_pred)\n",
    "print(\"Coeficiente de determinación:\", r2)"
   ]
  },
  {
   "cell_type": "markdown",
   "metadata": {},
   "source": [
    "## Segundo modelo: Regression Random Forest\n",
    "pop condicion_egreso, municipio, region. Filtrando el DataFrame para mantener solo las filas donde el departamento es Guatemala."
   ]
  },
  {
   "cell_type": "code",
   "execution_count": 12,
   "metadata": {},
   "outputs": [],
   "source": [
    "df_cp = data.copy()\n",
    "\n",
    "df_cp.pop('condicion_egreso')\n",
    "df_cp.pop('municipio')\n",
    "df_cp.pop('region')\n",
    "\n",
    "df_cp = df_cp[df_cp['departamento'] == 'Guatemala']\n",
    "df_cp.pop('departamento')\n",
    "\n",
    "freq = df_cp['dias_estancia'].value_counts()\n",
    "df_cp = df_cp.loc[df_cp['dias_estancia'] <= 30]\n",
    "\n",
    "uniques = freq[freq == 1].index\n",
    "df_cp = df_cp.loc[~df_cp['dias_estancia'].isin(uniques)]\n",
    "\n",
    "y = df_cp.pop('dias_estancia')\n",
    "X = df_cp\n",
    "description = chageNotNumericVars(X)"
   ]
  },
  {
   "cell_type": "code",
   "execution_count": 13,
   "metadata": {},
   "outputs": [],
   "source": [
    "X_train, X_test, y_train, y_test = train_test_split(X, y, test_size=0.2, random_state=42)"
   ]
  },
  {
   "cell_type": "code",
   "execution_count": 14,
   "metadata": {},
   "outputs": [
    {
     "name": "stdout",
     "output_type": "stream",
     "text": [
      "Fitting 3 folds for each of 4 candidates, totalling 12 fits\n",
      "[CV] END ........................................max_depth=5; total time=  46.4s\n",
      "[CV] END ........................................max_depth=5; total time=  46.5s\n",
      "[CV] END ........................................max_depth=5; total time=  46.7s\n",
      "[CV] END .......................................max_depth=10; total time= 1.3min\n",
      "[CV] END .......................................max_depth=10; total time= 1.3min\n",
      "[CV] END .......................................max_depth=10; total time= 1.3min\n",
      "[CV] END .......................................max_depth=15; total time= 1.6min\n",
      "[CV] END .......................................max_depth=15; total time= 1.6min\n",
      "[CV] END .......................................max_depth=15; total time= 1.4min\n",
      "[CV] END .......................................max_depth=20; total time= 1.5min\n",
      "[CV] END .......................................max_depth=20; total time= 1.5min\n",
      "[CV] END .......................................max_depth=20; total time= 1.3min\n",
      "La mejor profundidad encontrada es: 15\n"
     ]
    }
   ],
   "source": [
    "best_depth = findBestMaxDepth(X_train, y_train)\n",
    "print(f\"La mejor profundidad encontrada es: {best_depth}\")"
   ]
  },
  {
   "cell_type": "markdown",
   "metadata": {},
   "source": [
    "### Test Data Set"
   ]
  },
  {
   "cell_type": "code",
   "execution_count": 15,
   "metadata": {},
   "outputs": [
    {
     "name": "stdout",
     "output_type": "stream",
     "text": [
      "Error cuadrático medio: 4.4064677438655435\n",
      "raiz del error cuadratico medio 2.0991588181615852\n",
      "Coeficiente de determinación: 0.13996794332514984\n"
     ]
    }
   ],
   "source": [
    "# Crear el modelo de Random Forest con la mejor profundidad\n",
    "rf_model = RandomForestRegressor(max_depth=best_depth, random_state=42)\n",
    "\n",
    "# Entrenar el modelo\n",
    "rf_model.fit(X_train, y_train)\n",
    "\n",
    "# Predecir en el conjunto de prueba\n",
    "y_pred = rf_model.predict(X_test)\n",
    "\n",
    "# Calcular el error cuadrático medio\n",
    "mse = mean_squared_error(y_test, y_pred)\n",
    "print(\"Error cuadrático medio:\", mse)\n",
    "\n",
    "# Calcular la raiz del error cuadratico medio\n",
    "rmse = root_mean_squared_error(y_test, y_pred)\n",
    "print(\"raiz del error cuadratico medio\", rmse)\n",
    "\n",
    "# Calcular el coeficiente de determinación\n",
    "r2 = r2_score(y_test, y_pred)\n",
    "print(\"Coeficiente de determinación:\", r2)"
   ]
  },
  {
   "cell_type": "markdown",
   "metadata": {},
   "source": [
    "### Train Data Set"
   ]
  },
  {
   "cell_type": "code",
   "execution_count": 16,
   "metadata": {},
   "outputs": [
    {
     "name": "stdout",
     "output_type": "stream",
     "text": [
      "Error cuadrático medio (entrenamiento): 3.926126832818633\n",
      "Raiz del error cuadratico medio (entrenamiento): 1.9814456421559066\n",
      "Coeficiente de determinación (entrenamiento): 0.2537315825239762\n"
     ]
    }
   ],
   "source": [
    "# Crear el modelo de Random Forest con la mejor profundidad\n",
    "rf_model = RandomForestRegressor(max_depth=best_depth, random_state=42)\n",
    "\n",
    "# Entrenar el modelo\n",
    "rf_model.fit(X_train, y_train)\n",
    "\n",
    "# Predecir en el conjunto de entrenamiento\n",
    "y_train_pred = rf_model.predict(X_train)\n",
    "\n",
    "# Calcular el error cuadrático medio\n",
    "mse_train = mean_squared_error(y_train, y_train_pred)\n",
    "print(\"Error cuadrático medio (entrenamiento):\", mse_train)\n",
    "\n",
    "# Calcular la raiz del error cuadratico medio\n",
    "rmse_train = np.sqrt(mse_train)\n",
    "print(\"Raiz del error cuadratico medio (entrenamiento):\", rmse_train)\n",
    "\n",
    "# Calcular el coeficiente de determinación\n",
    "r2_train = r2_score(y_train, y_train_pred)\n",
    "print(\"Coeficiente de determinación (entrenamiento):\", r2_train)"
   ]
  },
  {
   "cell_type": "markdown",
   "metadata": {},
   "source": [
    "## Tercer modelo\n",
    "Ajuste de hiperparámetros del segundo modelo con pop en condicion_egreso, municipio, region. Filtrando el DataFrame para mantener solo las filas donde el departamento es Guatemala."
   ]
  },
  {
   "cell_type": "code",
   "execution_count": 17,
   "metadata": {},
   "outputs": [],
   "source": [
    "df_cp = data.copy()\n",
    "\n",
    "df_cp.pop('condicion_egreso')\n",
    "df_cp.pop('municipio')\n",
    "df_cp.pop('region')\n",
    "\n",
    "df_cp = df_cp[df_cp['departamento'] == 'Guatemala']\n",
    "df_cp.pop('departamento')\n",
    "\n",
    "freq = df_cp['dias_estancia'].value_counts()\n",
    "df_cp = df_cp.loc[df_cp['dias_estancia'] <= 30]\n",
    "\n",
    "uniques = freq[freq == 1].index\n",
    "df_cp = df_cp.loc[~df_cp['dias_estancia'].isin(uniques)]\n",
    "\n",
    "y = df_cp.pop('dias_estancia')\n",
    "X = df_cp\n",
    "description = chageNotNumericVars(X)"
   ]
  },
  {
   "cell_type": "code",
   "execution_count": 19,
   "metadata": {},
   "outputs": [
    {
     "name": "stdout",
     "output_type": "stream",
     "text": [
      "Fitting 3 folds for each of 16 candidates, totalling 48 fits\n",
      "[CV] END .....................max_depth=20, n_estimators=150; total time= 2.9min\n",
      "[CV] END .....................max_depth=20, n_estimators=150; total time= 2.9min\n",
      "[CV] END .....................max_depth=20, n_estimators=200; total time= 3.8min\n",
      "[CV] END .....................max_depth=20, n_estimators=200; total time= 3.8min\n",
      "[CV] END .....................max_depth=20, n_estimators=200; total time= 3.8min\n",
      "[CV] END .....................max_depth=20, n_estimators=100; total time= 1.9min\n",
      "[CV] END .....................max_depth=20, n_estimators=300; total time= 5.7min\n",
      "[CV] END .....................max_depth=20, n_estimators=150; total time= 2.8min\n",
      "[CV] END .....................max_depth=20, n_estimators=100; total time= 1.9min\n",
      "[CV] END .....................max_depth=20, n_estimators=300; total time= 5.7min\n",
      "[CV] END .....................max_depth=20, n_estimators=100; total time= 1.9min\n",
      "[CV] END .....................max_depth=20, n_estimators=300; total time= 5.7min\n",
      "[CV] END .....................max_depth=15, n_estimators=200; total time= 3.3min\n",
      "[CV] END .....................max_depth=15, n_estimators=200; total time= 3.3min\n",
      "[CV] END .....................max_depth=15, n_estimators=150; total time= 2.5min\n",
      "[CV] END .....................max_depth=15, n_estimators=150; total time= 2.5min\n",
      "[CV] END .....................max_depth=15, n_estimators=200; total time= 3.3min\n",
      "[CV] END .....................max_depth=15, n_estimators=150; total time= 2.5min\n",
      "[CV] END .....................max_depth=15, n_estimators=100; total time= 1.6min\n",
      "[CV] END .....................max_depth=15, n_estimators=100; total time= 1.7min\n",
      "[CV] END .....................max_depth=15, n_estimators=100; total time= 1.7min\n",
      "[CV] END .....................max_depth=15, n_estimators=300; total time= 4.9min\n",
      "[CV] END .....................max_depth=15, n_estimators=300; total time= 4.9min\n",
      "[CV] END .....................max_depth=15, n_estimators=300; total time= 4.9min\n",
      "[CV] END .....................max_depth=10, n_estimators=200; total time= 2.5min\n",
      "[CV] END .....................max_depth=10, n_estimators=200; total time= 2.5min\n",
      "[CV] END .....................max_depth=10, n_estimators=200; total time= 2.5min\n",
      "[CV] END .....................max_depth=10, n_estimators=150; total time= 1.9min\n",
      "[CV] END .....................max_depth=10, n_estimators=150; total time= 1.9min\n",
      "[CV] END .....................max_depth=10, n_estimators=100; total time= 1.3min\n",
      "[CV] END .....................max_depth=10, n_estimators=150; total time= 1.9min\n",
      "[CV] END .....................max_depth=10, n_estimators=100; total time= 1.3min\n",
      "[CV] END .....................max_depth=10, n_estimators=300; total time= 3.8min\n",
      "[CV] END .....................max_depth=10, n_estimators=300; total time= 3.8min\n",
      "[CV] END .....................max_depth=10, n_estimators=100; total time= 1.3min\n",
      "[CV] END ......................max_depth=5, n_estimators=200; total time= 1.5min\n",
      "[CV] END .....................max_depth=10, n_estimators=300; total time= 3.8min\n",
      "[CV] END ......................max_depth=5, n_estimators=200; total time= 1.5min\n",
      "[CV] END ......................max_depth=5, n_estimators=200; total time= 1.5min\n",
      "[CV] END ......................max_depth=5, n_estimators=150; total time= 1.1min\n",
      "[CV] END ......................max_depth=5, n_estimators=150; total time= 1.1min\n",
      "[CV] END ......................max_depth=5, n_estimators=150; total time= 1.1min\n",
      "[CV] END ......................max_depth=5, n_estimators=100; total time=  43.2s\n",
      "[CV] END ......................max_depth=5, n_estimators=100; total time=  42.0s\n",
      "[CV] END ......................max_depth=5, n_estimators=100; total time=  41.5s\n",
      "[CV] END ......................max_depth=5, n_estimators=300; total time= 2.2min\n",
      "[CV] END ......................max_depth=5, n_estimators=300; total time= 2.2min\n",
      "[CV] END ......................max_depth=5, n_estimators=300; total time= 2.1min\n",
      "{'max_depth': 15, 'n_estimators': 300}\n",
      "Error cuadrático medio: 4.403329642178853\n",
      "Raiz del error cuadratico medio: 2.0984112185600927\n",
      "Coeficiente de determinación: 0.1405804221187179\n"
     ]
    }
   ],
   "source": [
    "# Definición de hiperparámetros\n",
    "param_grid = {\n",
    "    'max_depth': [20, 15, 10, 5],\n",
    "    'n_estimators': [200, 300, 150, 100]\n",
    "}\n",
    "\n",
    "# Modelo de Random Forest\n",
    "rf = RandomForestRegressor(random_state=42)\n",
    "\n",
    "# Crear el objeto de búsqueda por cuadrícula\n",
    "grid_search = GridSearchCV(estimator=rf, param_grid=param_grid, cv=3, scoring='neg_mean_squared_error', verbose=2, n_jobs=-1)\n",
    "\n",
    "# Ajustar el modelo\n",
    "grid_search.fit(X_train, y_train)\n",
    "\n",
    "# Ver los mejores hiperparámetros\n",
    "print(grid_search.best_params_)\n",
    "\n",
    "# Usar el mejor modelo\n",
    "best_rf = grid_search.best_estimator_\n",
    "\n",
    "# Predecir en el conjunto de prueba\n",
    "y_pred = best_rf.predict(X_test)\n",
    "\n",
    "# Calcular el error cuadrático medio\n",
    "mse = mean_squared_error(y_test, y_pred)\n",
    "print(\"Error cuadrático medio:\", mse)\n",
    "\n",
    "# Calcular la raiz del error cuadratico medio\n",
    "rmse = np.sqrt(mse)\n",
    "print(\"Raiz del error cuadratico medio:\", rmse)\n",
    "\n",
    "# Calcular el coeficiente de determinación\n",
    "r2 = r2_score(y_test, y_pred)\n",
    "print(\"Coeficiente de determinación:\", r2)"
   ]
  }
 ],
 "metadata": {
  "kernelspec": {
   "display_name": "Python 3",
   "language": "python",
   "name": "python3"
  },
  "language_info": {
   "codemirror_mode": {
    "name": "ipython",
    "version": 3
   },
   "file_extension": ".py",
   "mimetype": "text/x-python",
   "name": "python",
   "nbconvert_exporter": "python",
   "pygments_lexer": "ipython3",
   "version": "3.11.8"
  }
 },
 "nbformat": 4,
 "nbformat_minor": 2
}
